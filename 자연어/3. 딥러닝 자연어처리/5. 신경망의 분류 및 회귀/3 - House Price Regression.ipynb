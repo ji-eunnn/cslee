{
 "cells": [
  {
   "cell_type": "code",
   "execution_count": 1,
   "metadata": {},
   "outputs": [
    {
     "name": "stderr",
     "output_type": "stream",
     "text": [
      "Using TensorFlow backend.\n"
     ]
    }
   ],
   "source": [
    "from keras import models\n",
    "from keras import layers\n",
    "from keras import optimizers, losses, metrics\n",
    "from keras.datasets import boston_housing\n",
    "\n",
    "import numpy as np\n",
    "import matplotlib.pyplot as plt"
   ]
  },
  {
   "cell_type": "markdown",
   "metadata": {},
   "source": [
    "<br>\n",
    "<br>\n",
    "\n",
    "# 데이터 로드"
   ]
  },
  {
   "cell_type": "code",
   "execution_count": 2,
   "metadata": {},
   "outputs": [],
   "source": [
    "# 보스턴 하우징 데이터를 로드\n",
    "(train_data, train_targets), (test_data, test_targets) =  boston_housing.load_data()"
   ]
  },
  {
   "cell_type": "code",
   "execution_count": 3,
   "metadata": {},
   "outputs": [
    {
     "data": {
      "text/plain": [
       "(404, 13)"
      ]
     },
     "execution_count": 3,
     "metadata": {},
     "output_type": "execute_result"
    }
   ],
   "source": [
    "# 훈련셋 크기\n",
    "train_data.shape\n"
   ]
  },
  {
   "cell_type": "code",
   "execution_count": 4,
   "metadata": {},
   "outputs": [
    {
     "data": {
      "text/plain": [
       "(404,)"
      ]
     },
     "execution_count": 4,
     "metadata": {},
     "output_type": "execute_result"
    }
   ],
   "source": [
    "# 훈련셋 목표 크기\n",
    "train_targets.shape\n"
   ]
  },
  {
   "cell_type": "code",
   "execution_count": 5,
   "metadata": {},
   "outputs": [
    {
     "data": {
      "text/plain": [
       "(102, 13)"
      ]
     },
     "execution_count": 5,
     "metadata": {},
     "output_type": "execute_result"
    }
   ],
   "source": [
    "# 테스트셋 크기\n",
    "test_data.shape\n"
   ]
  },
  {
   "cell_type": "code",
   "execution_count": 6,
   "metadata": {},
   "outputs": [
    {
     "data": {
      "text/plain": [
       "(102,)"
      ]
     },
     "execution_count": 6,
     "metadata": {},
     "output_type": "execute_result"
    }
   ],
   "source": [
    "# 테스트셋 목표 크기\n",
    "test_targets.shape\n"
   ]
  },
  {
   "cell_type": "code",
   "execution_count": 7,
   "metadata": {},
   "outputs": [
    {
     "data": {
      "text/plain": [
       "array([  1.23247,   0.     ,   8.14   ,   0.     ,   0.538  ,   6.142  ,\n",
       "        91.7    ,   3.9769 ,   4.     , 307.     ,  21.     , 396.9    ,\n",
       "        18.72   ])"
      ]
     },
     "execution_count": 7,
     "metadata": {},
     "output_type": "execute_result"
    }
   ],
   "source": [
    "# 첫 번째 훈련셋 출력\n",
    "train_data[0]\n"
   ]
  },
  {
   "cell_type": "code",
   "execution_count": 8,
   "metadata": {},
   "outputs": [
    {
     "data": {
      "text/plain": [
       "15.2"
      ]
     },
     "execution_count": 8,
     "metadata": {},
     "output_type": "execute_result"
    }
   ],
   "source": [
    "# 첫 번째 훈련셋 목표 출력\n",
    "train_targets[0]\n"
   ]
  },
  {
   "cell_type": "markdown",
   "metadata": {},
   "source": [
    "훈련셋에는 다음과 같이 집 가격에 영향을 미치는 13개의 입력 항목이 있습니다. \n",
    "\n",
    "1. CRIM - per capita crime rate by town\n",
    "2. ZN - proportion of residential land zoned for lots over 25,000 sq.ft\n",
    "3. INDUS - proportion of non-retail business acres per town\n",
    "4. CHAS - Charles River dummy variable (1 if tract bounds river; else 0)\n",
    "5. NOX - nitric oxides concentration (parts per 10 million)\n",
    "6. RM - average number of rooms per dwelling\n",
    "7. AGE - proportion of owner-occupied units built prior to 1940\n",
    "8. DIS - weighted distances to five Boston employment centres\n",
    "9. RAD - index of accessibility to radial highways\n",
    "10. TAX - full-value property-tax rate per $10,000\n",
    "11. PT - pupil-teacher ratio by town\n",
    "12. B - 1000(Bk - 0.63)^2 where Bk is the proportion of blacks by town\n",
    "13. LSTAT - % lower status of the population\n",
    "\n",
    "출력 목표는 집의 가격으로 1000$ 기준입니다."
   ]
  },
  {
   "cell_type": "markdown",
   "metadata": {},
   "source": [
    "<br>\n",
    "<br>\n",
    "\n",
    "# 전처리"
   ]
  },
  {
   "cell_type": "code",
   "execution_count": 9,
   "metadata": {},
   "outputs": [],
   "source": [
    "# 0축인 각 데이터를 기준으로 13개 항목의 평균을 구함\n",
    "# 평균을 뺀 값에 표준편차로 나누면 모든 데이터가 같은 범위를 가짐\n",
    "x_train = train_data\n",
    "mean = x_train.mean(axis=0)\n",
    "x_train -= mean\n",
    "std = x_train.std(axis=0)\n",
    "x_train /= std\n",
    "\n",
    "# 훈련셋의 평균과 표준편차로 테스트셋을 정규화해서 기준을 통일해야 함\n",
    "x_test = test_data\n",
    "x_test -= mean\n",
    "x_test /= std\n",
    "\n",
    "# 목표값은 전처리 없이 그대로 사용\n",
    "y_train = train_targets\n",
    "y_test = test_targets"
   ]
  },
  {
   "cell_type": "markdown",
   "metadata": {},
   "source": [
    "신경망의 입력들이 범위가 각각 다르면 학습 효과가 떨어집니다. 그래서 같은 스케일로 통일할 필요가 있습니다. 이런 방법에는 최대값과 최소값을 사용하는 정규화(Normalization)와 평균과 표준편차 기반의 표준화(Standardization)가 있습니다. 여기서는 표준화를 적용하였습니다.\n",
    "<br>\n",
    "<br>\n",
    "<br>"
   ]
  },
  {
   "cell_type": "code",
   "execution_count": 10,
   "metadata": {},
   "outputs": [
    {
     "data": {
      "text/plain": [
       "array([-0.27224633, -0.48361547, -0.43576161, -0.25683275, -0.1652266 ,\n",
       "       -0.1764426 ,  0.81306188,  0.1166983 , -0.62624905, -0.59517003,\n",
       "        1.14850044,  0.44807713,  0.8252202 ])"
      ]
     },
     "execution_count": 10,
     "metadata": {},
     "output_type": "execute_result"
    }
   ],
   "source": [
    "# 첫 번째 훈련셋 출력\n",
    "x_train[0]\n"
   ]
  },
  {
   "cell_type": "code",
   "execution_count": 11,
   "metadata": {},
   "outputs": [
    {
     "data": {
      "text/plain": [
       "15.2"
      ]
     },
     "execution_count": 11,
     "metadata": {},
     "output_type": "execute_result"
    }
   ],
   "source": [
    "# 첫 번째 훈련셋 목표 출력\n",
    "y_train[0]\n"
   ]
  },
  {
   "cell_type": "markdown",
   "metadata": {},
   "source": [
    "<br>\n",
    "<br>\n",
    "\n",
    "# 모델 생성"
   ]
  },
  {
   "cell_type": "code",
   "execution_count": 12,
   "metadata": {},
   "outputs": [],
   "source": [
    "def build_model():\n",
    "\n",
    "    model = models.Sequential()\n",
    "    model.add(layers.Dense(64, activation='relu', input_shape=(13,)))\n",
    "    model.add(layers.Dense(64, activation='relu'))\n",
    "    model.add(layers.Dense(1)) # 마지막 레이어에 활성화 함수 없음\n",
    "    \n",
    "    model.compile(optimizer='rmsprop',\n",
    "                  loss='mse',\n",
    "                  metrics=['mae'])\n",
    "    \n",
    "    return model"
   ]
  },
  {
   "cell_type": "markdown",
   "metadata": {},
   "source": [
    "이전 분류 문제에서는 마지막 레이어의 활성화 함수가 sigmoid나 softmax였습니다. 하지만 회귀에서는 출력이 0~1 사이가 아닙니다. 그래서 활성화 함수 없이 어떠한 실수라도 가능하도록 합니다.\n",
    "\n",
    "또한 이번 예제는 회귀 문제이기 때문에 손실 함수로 MSE(Mean Squre Error)를 사용하였습니다. 마찬가지로 측정 항목은 MAE(Mean Absolute Error)로 설정하였습니다."
   ]
  },
  {
   "cell_type": "markdown",
   "metadata": {},
   "source": [
    "<br>\n",
    "<br>\n",
    "\n",
    "# 훈련 및 평가"
   ]
  },
  {
   "cell_type": "markdown",
   "metadata": {},
   "source": [
    "지금까지 다룬 예제에서는 검증셋을 한번만 분리하고 학습을 진행하였습니다. 하지만 이번 훈련셋은 샘플의 수가 404개로 매우 적습니다. 검증셋 역시 많이 사용할 수가 없기 때문에, 과대적합이 되는 부분을 효과적으로 판단하기가 어렵습니다. \n",
    "\n",
    "이런 문제점을 보완하기 위해서 K-폴드 교차 검증(K-Fold Cross Validation)을 적용하겠습니다. 전체 훈련셋을 k개로 분리하여 각각 훈련셋과 검증셋을 만들고 이를 반복적으로 돌아가며 사용합니다. 이렇게 k번 훈련을 하고 그 검증 결과를 평균을 내어 확인합니다.\n",
    "<br>\n",
    "<br>\n",
    "<br>"
   ]
  },
  {
   "cell_type": "code",
   "execution_count": 13,
   "metadata": {},
   "outputs": [
    {
     "name": "stdout",
     "output_type": "stream",
     "text": [
      "Current fold in progress : 0\n",
      "Current fold in progress : 1\n",
      "Current fold in progress : 2\n",
      "Current fold in progress : 3\n"
     ]
    }
   ],
   "source": [
    "k = 4\n",
    "val_samples_num = len(x_train) // k\n",
    "epochs_num = 200\n",
    "mae_list = []\n",
    "\n",
    "# k번 교차 검증 반복\n",
    "for i in range(k):\n",
    "    print('Current fold in progress :', i)\n",
    "    \n",
    "    # 검증 데이터 분할\n",
    "    # k 위치에 있는 데이터를 검증 샘플 수만큼 잘라냄\n",
    "    x_val = x_train[i * val_samples_num:(i + 1) * val_samples_num]\n",
    "    y_val = y_train[i * val_samples_num:(i + 1) * val_samples_num]\n",
    "\n",
    "    # 훈련 데이터 분할\n",
    "    # 검증 데이터 부분을 제외하고 합침\n",
    "    x_train_new = np.concatenate(\n",
    "        [x_train[:i * val_samples_num],\n",
    "         x_train[(i + 1) * val_samples_num:]],\n",
    "        axis=0)\n",
    "    y_train_new = np.concatenate(\n",
    "        [y_train[:i * val_samples_num],\n",
    "         y_train[(i + 1) * val_samples_num:]],\n",
    "        axis=0)\n",
    "\n",
    "    # 모델 생성\n",
    "    model = build_model()\n",
    "\n",
    "    # 훈련 시작\n",
    "    # verboss가 0이면 진행 상황 출력 안함\n",
    "    history = model.fit(x_train_new, \n",
    "                        y_train_new,\n",
    "                        epochs=epochs_num, \n",
    "                        batch_size=1,\n",
    "                        validation_data=(x_val, y_val),\n",
    "                        verbose=0)\n",
    "    \n",
    "    # MAE를 리스트에 추가\n",
    "    mae = history.history['val_mean_absolute_error']\n",
    "    mae_list.append(mae)\n",
    "    "
   ]
  },
  {
   "cell_type": "code",
   "execution_count": 14,
   "metadata": {},
   "outputs": [],
   "source": [
    "# 각 에폭마다 k개의 MAE가 존재하고, 이를 평균으로 계산하여 검증에 사용\n",
    "mae_average = [np.mean([x[i] for x in mae_list]) for i in range(epochs_num)]"
   ]
  },
  {
   "cell_type": "code",
   "execution_count": 15,
   "metadata": {},
   "outputs": [
    {
     "data": {
      "image/png": "[encoded data removed]",
      "text/plain": [
       "<Figure size 432x288 with 1 Axes>"
      ]
     },
     "metadata": {},
     "output_type": "display_data"
    }
   ],
   "source": [
    "epochs = range(1, len(mae_average) + 1)\n",
    "\n",
    "plt.plot(epochs, mae_average)\n",
    "plt.xlabel('Epochs')\n",
    "plt.ylabel('Validation MAE')\n",
    "\n",
    "plt.show()\n"
   ]
  },
  {
   "cell_type": "markdown",
   "metadata": {},
   "source": [
    "MAE가 급격하게 떨어져서 그래프 하단의 변화량을 알아보기가 어렵습니다. 앞부분인 10개의 에폭 부분을 삭제해 보겠습니다.\n",
    "<br>\n",
    "<br>\n",
    "<br>"
   ]
  },
  {
   "cell_type": "code",
   "execution_count": 16,
   "metadata": {},
   "outputs": [
    {
     "data": {
      "image/png": "[encoded data removed]",
      "text/plain": [
       "<Figure size 432x288 with 1 Axes>"
      ]
     },
     "metadata": {},
     "output_type": "display_data"
    }
   ],
   "source": [
    "mae_average_new = mae_average[10:]\n",
    "epochs = range(1, len(mae_average_new) + 1)\n",
    "\n",
    "plt.plot(epochs, mae_average_new)\n",
    "plt.xlabel('Epochs')\n",
    "plt.ylabel('Validation MAE')\n",
    "\n",
    "plt.show()\n"
   ]
  },
  {
   "cell_type": "markdown",
   "metadata": {},
   "source": [
    "이번에는 그래프의 변화가 너무 커서 눈에 잘 들어오지 않습니다. 지수 이동 평균(exponential moving average)으로 그래프를 좀 더 부드럽게 변환하겠습니다. 이전 위치에서 다음 위치 방향으로 조금씩만 움직이는 방법입니다.\n",
    "<br>\n",
    "<br>\n",
    "<br>"
   ]
  },
  {
   "cell_type": "code",
   "execution_count": 17,
   "metadata": {},
   "outputs": [
    {
     "data": {
      "image/png": "[encoded data removed]",
      "text/plain": [
       "<Figure size 432x288 with 1 Axes>"
      ]
     },
     "metadata": {},
     "output_type": "display_data"
    }
   ],
   "source": [
    "def convert_ema(points, factor=0.9):\n",
    "    \n",
    "    points_new = []\n",
    "\n",
    "    for point in points:\n",
    "        if points_new:\n",
    "            # 이전 위치가 있으면 factor 비율만큼만 조금씩 다음 위치로 이동\n",
    "            previous = points_new[-1]\n",
    "            points_new.append(previous * factor + point * (1 - factor))\n",
    "        else:\n",
    "            # 첫 번째 위치면 그냥 추가\n",
    "            points_new.append(point)\n",
    "        \n",
    "    return points_new\n",
    "\n",
    "mae_average_new = convert_ema(mae_average[10:])\n",
    "epochs = range(1, len(mae_average_new) + 1)\n",
    "\n",
    "plt.plot(epochs, mae_average_new)\n",
    "plt.xlabel('Epochs')\n",
    "plt.ylabel('Validation MAE')\n",
    "\n",
    "plt.show()\n"
   ]
  },
  {
   "cell_type": "markdown",
   "metadata": {},
   "source": [
    "이제 그래프의 패턴이 확실하게 보입니다. 대략 60번째 에폭부터 검증셋의 MAE가 다시 증가하기 시작합니다. 과대적합을 피하기 위해 에폭을 60으로 수정하고 다시 학습을 합니다.\n",
    "<br>\n",
    "<br>\n",
    "<br>"
   ]
  },
  {
   "cell_type": "code",
   "execution_count": 18,
   "metadata": {},
   "outputs": [
    {
     "name": "stdout",
     "output_type": "stream",
     "text": [
      "Epoch 1/60\n",
      "404/404 [==============================] - 0s 639us/step - loss: 474.0111 - mean_absolute_error: 19.7101\n",
      "Epoch 2/60\n",
      "404/404 [==============================] - 0s 94us/step - loss: 283.9133 - mean_absolute_error: 14.5997\n",
      "Epoch 3/60\n",
      "404/404 [==============================] - 0s 109us/step - loss: 112.6100 - mean_absolute_error: 8.4548\n",
      "Epoch 4/60\n",
      "404/404 [==============================] - 0s 104us/step - loss: 43.6454 - mean_absolute_error: 4.9503\n",
      "Epoch 5/60\n",
      "404/404 [==============================] - 0s 109us/step - loss: 28.7252 - mean_absolute_error: 3.9558\n",
      "Epoch 6/60\n",
      "404/404 [==============================] - 0s 104us/step - loss: 23.1903 - mean_absolute_error: 3.4741\n",
      "Epoch 7/60\n",
      "404/404 [==============================] - 0s 106us/step - loss: 20.0986 - mean_absolute_error: 3.2081\n",
      "Epoch 8/60\n",
      "404/404 [==============================] - 0s 104us/step - loss: 18.1793 - mean_absolute_error: 3.0394\n",
      "Epoch 9/60\n",
      "404/404 [==============================] - 0s 106us/step - loss: 16.4094 - mean_absolute_error: 2.8604\n",
      "Epoch 10/60\n",
      "404/404 [==============================] - 0s 116us/step - loss: 15.4400 - mean_absolute_error: 2.7541\n",
      "Epoch 11/60\n",
      "404/404 [==============================] - 0s 109us/step - loss: 14.5854 - mean_absolute_error: 2.6862\n",
      "Epoch 12/60\n",
      "404/404 [==============================] - 0s 121us/step - loss: 13.4344 - mean_absolute_error: 2.5730\n",
      "Epoch 13/60\n",
      "404/404 [==============================] - 0s 106us/step - loss: 12.7981 - mean_absolute_error: 2.5044\n",
      "Epoch 14/60\n",
      "404/404 [==============================] - 0s 111us/step - loss: 12.3052 - mean_absolute_error: 2.5025\n",
      "Epoch 15/60\n",
      "404/404 [==============================] - 0s 106us/step - loss: 11.4568 - mean_absolute_error: 2.4279\n",
      "Epoch 16/60\n",
      "404/404 [==============================] - 0s 114us/step - loss: 11.3101 - mean_absolute_error: 2.3258\n",
      "Epoch 17/60\n",
      "404/404 [==============================] - 0s 101us/step - loss: 10.8977 - mean_absolute_error: 2.3170\n",
      "Epoch 18/60\n",
      "404/404 [==============================] - 0s 111us/step - loss: 10.6699 - mean_absolute_error: 2.2887\n",
      "Epoch 19/60\n",
      "404/404 [==============================] - 0s 106us/step - loss: 10.2483 - mean_absolute_error: 2.2795\n",
      "Epoch 20/60\n",
      "404/404 [==============================] - 0s 106us/step - loss: 10.0834 - mean_absolute_error: 2.2612\n",
      "Epoch 21/60\n",
      "404/404 [==============================] - 0s 104us/step - loss: 9.9791 - mean_absolute_error: 2.2406\n",
      "Epoch 22/60\n",
      "404/404 [==============================] - 0s 124us/step - loss: 9.7022 - mean_absolute_error: 2.2182\n",
      "Epoch 23/60\n",
      "404/404 [==============================] - 0s 104us/step - loss: 9.5911 - mean_absolute_error: 2.1846\n",
      "Epoch 24/60\n",
      "404/404 [==============================] - 0s 101us/step - loss: 9.3445 - mean_absolute_error: 2.1898\n",
      "Epoch 25/60\n",
      "404/404 [==============================] - 0s 104us/step - loss: 9.1595 - mean_absolute_error: 2.1385\n",
      "Epoch 26/60\n",
      "404/404 [==============================] - 0s 104us/step - loss: 8.8578 - mean_absolute_error: 2.1482\n",
      "Epoch 27/60\n",
      "404/404 [==============================] - 0s 101us/step - loss: 8.9751 - mean_absolute_error: 2.1386\n",
      "Epoch 28/60\n",
      "404/404 [==============================] - 0s 101us/step - loss: 8.9923 - mean_absolute_error: 2.1137\n",
      "Epoch 29/60\n",
      "404/404 [==============================] - 0s 99us/step - loss: 8.8281 - mean_absolute_error: 2.0922\n",
      "Epoch 30/60\n",
      "404/404 [==============================] - 0s 104us/step - loss: 8.6735 - mean_absolute_error: 2.0682\n",
      "Epoch 31/60\n",
      "404/404 [==============================] - 0s 106us/step - loss: 8.6013 - mean_absolute_error: 2.0759\n",
      "Epoch 32/60\n",
      "404/404 [==============================] - 0s 99us/step - loss: 8.4266 - mean_absolute_error: 2.0620\n",
      "Epoch 33/60\n",
      "404/404 [==============================] - 0s 99us/step - loss: 8.5172 - mean_absolute_error: 2.0560\n",
      "Epoch 34/60\n",
      "404/404 [==============================] - 0s 109us/step - loss: 8.4446 - mean_absolute_error: 2.0637\n",
      "Epoch 35/60\n",
      "404/404 [==============================] - 0s 104us/step - loss: 8.1529 - mean_absolute_error: 2.0227\n",
      "Epoch 36/60\n",
      "404/404 [==============================] - 0s 92us/step - loss: 8.0958 - mean_absolute_error: 2.0352\n",
      "Epoch 37/60\n",
      "404/404 [==============================] - 0s 114us/step - loss: 8.1392 - mean_absolute_error: 1.9983\n",
      "Epoch 38/60\n",
      "404/404 [==============================] - 0s 92us/step - loss: 8.0157 - mean_absolute_error: 2.0166\n",
      "Epoch 39/60\n",
      "404/404 [==============================] - 0s 97us/step - loss: 7.7325 - mean_absolute_error: 1.9689\n",
      "Epoch 40/60\n",
      "404/404 [==============================] - 0s 94us/step - loss: 7.7126 - mean_absolute_error: 1.9835\n",
      "Epoch 41/60\n",
      "404/404 [==============================] - 0s 94us/step - loss: 7.7131 - mean_absolute_error: 1.9593\n",
      "Epoch 42/60\n",
      "404/404 [==============================] - 0s 94us/step - loss: 7.5624 - mean_absolute_error: 1.9902\n",
      "Epoch 43/60\n",
      "404/404 [==============================] - 0s 99us/step - loss: 7.5968 - mean_absolute_error: 1.9428\n",
      "Epoch 44/60\n",
      "404/404 [==============================] - 0s 94us/step - loss: 7.3370 - mean_absolute_error: 1.9199\n",
      "Epoch 45/60\n",
      "404/404 [==============================] - 0s 97us/step - loss: 7.2536 - mean_absolute_error: 1.8914\n",
      "Epoch 46/60\n",
      "404/404 [==============================] - 0s 99us/step - loss: 7.3282 - mean_absolute_error: 1.9166\n",
      "Epoch 47/60\n",
      "404/404 [==============================] - 0s 97us/step - loss: 7.3000 - mean_absolute_error: 1.9076\n",
      "Epoch 48/60\n",
      "404/404 [==============================] - 0s 101us/step - loss: 7.3552 - mean_absolute_error: 1.9840\n",
      "Epoch 49/60\n",
      "404/404 [==============================] - 0s 97us/step - loss: 7.2259 - mean_absolute_error: 1.8887\n",
      "Epoch 50/60\n",
      "404/404 [==============================] - 0s 97us/step - loss: 7.0785 - mean_absolute_error: 1.9042\n",
      "Epoch 51/60\n",
      "404/404 [==============================] - 0s 109us/step - loss: 7.2399 - mean_absolute_error: 1.9028\n",
      "Epoch 52/60\n",
      "404/404 [==============================] - 0s 92us/step - loss: 7.0285 - mean_absolute_error: 1.8819\n",
      "Epoch 53/60\n",
      "404/404 [==============================] - 0s 94us/step - loss: 7.0596 - mean_absolute_error: 1.8534\n",
      "Epoch 54/60\n",
      "404/404 [==============================] - 0s 99us/step - loss: 6.9085 - mean_absolute_error: 1.8745\n",
      "Epoch 55/60\n",
      "404/404 [==============================] - 0s 87us/step - loss: 6.8117 - mean_absolute_error: 1.8485\n",
      "Epoch 56/60\n",
      "404/404 [==============================] - 0s 97us/step - loss: 6.8790 - mean_absolute_error: 1.8537\n",
      "Epoch 57/60\n",
      "404/404 [==============================] - 0s 97us/step - loss: 6.5754 - mean_absolute_error: 1.8398\n",
      "Epoch 58/60\n",
      "404/404 [==============================] - 0s 94us/step - loss: 6.8974 - mean_absolute_error: 1.8371\n",
      "Epoch 59/60\n",
      "404/404 [==============================] - 0s 97us/step - loss: 6.6387 - mean_absolute_error: 1.8210\n",
      "Epoch 60/60\n",
      "404/404 [==============================] - 0s 109us/step - loss: 6.6760 - mean_absolute_error: 1.8480\n"
     ]
    },
    {
     "data": {
      "text/plain": [
       "<keras.callbacks.History at 0xd3233c8>"
      ]
     },
     "execution_count": 18,
     "metadata": {},
     "output_type": "execute_result"
    }
   ],
   "source": [
    "model = build_model()\n",
    "model.fit(x_train, y_train, epochs=60, batch_size=16)\n"
   ]
  },
  {
   "cell_type": "code",
   "execution_count": 19,
   "metadata": {},
   "outputs": [],
   "source": [
    "# 모델 저장\n",
    "model.save('./model/house_price_model.h5')"
   ]
  },
  {
   "cell_type": "markdown",
   "metadata": {},
   "source": [
    "<br>\n",
    "<br>\n",
    "\n",
    "# 테스트셋 확인"
   ]
  },
  {
   "cell_type": "code",
   "execution_count": 20,
   "metadata": {},
   "outputs": [],
   "source": [
    "# 저장된 모델 파일 로드\n",
    "model = models.load_model('./model/house_price_model.h5')"
   ]
  },
  {
   "cell_type": "code",
   "execution_count": 21,
   "metadata": {},
   "outputs": [
    {
     "name": "stdout",
     "output_type": "stream",
     "text": [
      "102/102 [==============================] - 0s 755us/step\n"
     ]
    },
    {
     "data": {
      "text/plain": [
       "[21.2233787985409, 2.898613733403823]"
      ]
     },
     "execution_count": 21,
     "metadata": {},
     "output_type": "execute_result"
    }
   ],
   "source": [
    "# 테스트셋 평가\n",
    "results = model.evaluate(x_test, y_test)\n",
    "results\n"
   ]
  },
  {
   "cell_type": "markdown",
   "metadata": {},
   "source": [
    "테스트셋의 MAE가 2.9정도 나왔습니다. 1이 1000달러이니까 예측한 집값이 2900달러 사이로 오차가 발생합니다.\n",
    "<br>\n",
    "<br>\n",
    "<br>"
   ]
  },
  {
   "cell_type": "code",
   "execution_count": 22,
   "metadata": {},
   "outputs": [
    {
     "data": {
      "text/plain": [
       "array([[ 9.488937],\n",
       "       [19.270061],\n",
       "       [22.015099],\n",
       "       [34.48477 ],\n",
       "       [25.209408],\n",
       "       [20.186125],\n",
       "       [27.46976 ],\n",
       "       [21.538265],\n",
       "       [20.473083],\n",
       "       [23.785065],\n",
       "       [19.493122],\n",
       "       [17.360668],\n",
       "       [16.278185],\n",
       "       [42.440033],\n",
       "       [20.698235],\n",
       "       [19.438725],\n",
       "       [26.12661 ],\n",
       "       [18.633827],\n",
       "       [20.370628],\n",
       "       [29.363077],\n",
       "       [12.093613],\n",
       "       [16.130497],\n",
       "       [21.97601 ],\n",
       "       [15.835922],\n",
       "       [20.338072],\n",
       "       [25.978556],\n",
       "       [30.045477],\n",
       "       [29.25678 ],\n",
       "       [12.678527],\n",
       "       [19.947788],\n",
       "       [19.703615],\n",
       "       [16.339949],\n",
       "       [33.098946],\n",
       "       [24.006245],\n",
       "       [17.451866],\n",
       "       [ 9.22693 ],\n",
       "       [16.656586],\n",
       "       [18.91994 ],\n",
       "       [22.367086],\n",
       "       [25.797804],\n",
       "       [29.747622],\n",
       "       [27.498491],\n",
       "       [15.88619 ],\n",
       "       [41.81327 ],\n",
       "       [28.741608],\n",
       "       [25.230164],\n",
       "       [27.039915],\n",
       "       [17.368298],\n",
       "       [25.398941],\n",
       "       [22.442474],\n",
       "       [34.917908],\n",
       "       [18.650623],\n",
       "       [13.110629],\n",
       "       [15.45231 ],\n",
       "       [34.565773],\n",
       "       [27.725012],\n",
       "       [14.193699],\n",
       "       [48.20163 ],\n",
       "       [33.579018],\n",
       "       [23.117079],\n",
       "       [26.668304],\n",
       "       [18.834259],\n",
       "       [16.849094],\n",
       "       [19.110249],\n",
       "       [23.844376],\n",
       "       [20.680466],\n",
       "       [14.584603],\n",
       "       [21.732878],\n",
       "       [15.259691],\n",
       "       [ 8.052691],\n",
       "       [29.254953],\n",
       "       [30.56026 ],\n",
       "       [28.16244 ],\n",
       "       [15.157171],\n",
       "       [25.096916],\n",
       "       [17.860706],\n",
       "       [19.465858],\n",
       "       [23.293661],\n",
       "       [34.995354],\n",
       "       [12.152327],\n",
       "       [21.40219 ],\n",
       "       [38.578003],\n",
       "       [16.579275],\n",
       "       [15.488836],\n",
       "       [17.728155],\n",
       "       [17.228062],\n",
       "       [21.968678],\n",
       "       [21.282833],\n",
       "       [21.841291],\n",
       "       [33.259624],\n",
       "       [19.639141],\n",
       "       [18.635284],\n",
       "       [24.614166],\n",
       "       [43.433434],\n",
       "       [35.437515],\n",
       "       [21.014294],\n",
       "       [36.02713 ],\n",
       "       [51.729385],\n",
       "       [25.983187],\n",
       "       [49.160263],\n",
       "       [31.485332],\n",
       "       [22.19499 ]], dtype=float32)"
      ]
     },
     "execution_count": 22,
     "metadata": {},
     "output_type": "execute_result"
    }
   ],
   "source": [
    "# 테스트셋 예측\n",
    "results = model.predict(x_test)\n",
    "results\n"
   ]
  },
  {
   "cell_type": "code",
   "execution_count": 23,
   "metadata": {},
   "outputs": [
    {
     "data": {
      "text/plain": [
       "array([51.729385], dtype=float32)"
      ]
     },
     "execution_count": 23,
     "metadata": {},
     "output_type": "execute_result"
    }
   ],
   "source": [
    "max(results)\n"
   ]
  },
  {
   "cell_type": "code",
   "execution_count": 24,
   "metadata": {},
   "outputs": [
    {
     "data": {
      "text/plain": [
       "array([8.052691], dtype=float32)"
      ]
     },
     "execution_count": 24,
     "metadata": {},
     "output_type": "execute_result"
    }
   ],
   "source": [
    "min(results)\n"
   ]
  },
  {
   "cell_type": "markdown",
   "metadata": {},
   "source": [
    "예측한 집값을 보면 최소 8000달러에서 최대 51000달러 사이입니다. 1970년대 조사한 자료인 것을 감안하면, 지금보다 당시의 부동산 가격이 상당히 저렴했던 것을 알 수 있습니다."
   ]
  },
  {
   "cell_type": "code",
   "execution_count": null,
   "metadata": {},
   "outputs": [],
   "source": []
  }
 ],
 "metadata": {
  "kernelspec": {
   "display_name": "Python 3",
   "language": "python",
   "name": "python3"
  },
  "language_info": {
   "codemirror_mode": {
    "name": "ipython",
    "version": 3
   },
   "file_extension": ".py",
   "mimetype": "text/x-python",
   "name": "python",
   "nbconvert_exporter": "python",
   "pygments_lexer": "ipython3",
   "version": "3.6.5"
  }
 },
 "nbformat": 4,
 "nbformat_minor": 2
}
