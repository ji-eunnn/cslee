{
 "cells": [
  {
   "cell_type": "code",
   "execution_count": 1,
   "metadata": {},
   "outputs": [],
   "source": [
    "import re"
   ]
  },
  {
   "cell_type": "markdown",
   "metadata": {},
   "source": [
    "<br>\n",
    "<br>\n",
    "\n",
    "# N-gram 구현"
   ]
  },
  {
   "cell_type": "code",
   "execution_count": 2,
   "metadata": {},
   "outputs": [
    {
     "data": {
      "text/plain": [
       "['one', 'two', 'three', 'four', 'five', 'six', 'seven']"
      ]
     },
     "execution_count": 2,
     "metadata": {},
     "output_type": "execute_result"
    }
   ],
   "source": [
    "# 텍스트 정의\n",
    "text = \"one two three four five six seven\"\n",
    "\n",
    "# N 설정\n",
    "N = 3\n",
    "\n",
    "# 텍스트를 토큰으로 분리\n",
    "tokens = [token for token in text.split(\" \") if token != \"\"]\n",
    "tokens\n"
   ]
  },
  {
   "cell_type": "code",
   "execution_count": 3,
   "metadata": {},
   "outputs": [
    {
     "data": {
      "text/plain": [
       "[['one', 'two', 'three', 'four', 'five', 'six', 'seven'],\n",
       " ['two', 'three', 'four', 'five', 'six', 'seven'],\n",
       " ['three', 'four', 'five', 'six', 'seven']]"
      ]
     },
     "execution_count": 3,
     "metadata": {},
     "output_type": "execute_result"
    }
   ],
   "source": [
    "# 왼쪽부터 한 칸씩 이동하는 배열 생성\n",
    "sequences = [tokens[i:] for i in range(N)]\n",
    "sequences\n"
   ]
  },
  {
   "cell_type": "code",
   "execution_count": 4,
   "metadata": {},
   "outputs": [
    {
     "data": {
      "text/plain": [
       "[('one', 'two', 'three'),\n",
       " ('two', 'three', 'four'),\n",
       " ('three', 'four', 'five'),\n",
       " ('four', 'five', 'six'),\n",
       " ('five', 'six', 'seven')]"
      ]
     },
     "execution_count": 4,
     "metadata": {},
     "output_type": "execute_result"
    }
   ],
   "source": [
    "# N-gram 생성\n",
    "# zip() : 파라미터로 들어온 변수들을 각각 위치에 따라 묶음\n",
    "# *sequences -> sequences[0], sequences[1], sequences[2]\n",
    "outputs = zip(*sequences)\n",
    "outputs = list(outputs)\n",
    "outputs\n"
   ]
  },
  {
   "cell_type": "markdown",
   "metadata": {},
   "source": [
    "<br>\n",
    "<br>\n",
    "\n",
    "# NLTK N-gram"
   ]
  },
  {
   "cell_type": "code",
   "execution_count": 5,
   "metadata": {},
   "outputs": [
    {
     "data": {
      "text/plain": [
       "[('natural', 'language', 'processing'),\n",
       " ('language', 'processing', 'nlp'),\n",
       " ('processing', 'nlp', 'is'),\n",
       " ('nlp', 'is', 'an'),\n",
       " ('is', 'an', 'area'),\n",
       " ('an', 'area', 'of'),\n",
       " ('area', 'of', 'computer'),\n",
       " ('of', 'computer', 'science'),\n",
       " ('computer', 'science', 'and'),\n",
       " ('science', 'and', 'artificial'),\n",
       " ('and', 'artificial', 'intelligence'),\n",
       " ('artificial', 'intelligence', 'concerned'),\n",
       " ('intelligence', 'concerned', 'with'),\n",
       " ('concerned', 'with', 'the'),\n",
       " ('with', 'the', 'interactions'),\n",
       " ('the', 'interactions', 'between'),\n",
       " ('interactions', 'between', 'computers'),\n",
       " ('between', 'computers', 'and'),\n",
       " ('computers', 'and', 'human'),\n",
       " ('and', 'human', 'natural'),\n",
       " ('human', 'natural', 'languages')]"
      ]
     },
     "execution_count": 5,
     "metadata": {},
     "output_type": "execute_result"
    }
   ],
   "source": [
    "from nltk.util import ngrams\n",
    "\n",
    "# 텍스트 정의\n",
    "text = \"Natural-language processing (NLP) is an area of computer science \" \\\n",
    "       \"and artificial intelligence concerned with the interactions \" \\\n",
    "       \"between computers and human (natural) languages.\"\n",
    "\n",
    "# 소문자 변환\n",
    "text = text.lower()\n",
    "\n",
    "# 알파벳과 숫자, 공백이 아니면 공백으로 변환\n",
    "text = re.sub(r'[^a-zA-Z0-9\\s]', ' ', text)\n",
    "\n",
    "# 텍스트를 토큰으로 분리 \n",
    "tokens = [token for token in text.split(\" \") if token != \"\"]\n",
    "\n",
    "# N-gram 생성\n",
    "outputs = list(ngrams(tokens, 3))\n",
    "outputs\n"
   ]
  },
  {
   "cell_type": "markdown",
   "metadata": {},
   "source": [
    "<br>\n",
    "<br>\n",
    "\n",
    "# N-gram 언어모델"
   ]
  },
  {
   "cell_type": "code",
   "execution_count": 6,
   "metadata": {},
   "outputs": [
    {
     "data": {
      "text/plain": [
       "200000"
      ]
     },
     "execution_count": 6,
     "metadata": {},
     "output_type": "execute_result"
    }
   ],
   "source": [
    "import codecs\n",
    "\n",
    "# 네이버 영화리뷰 데이터 로드\n",
    "with codecs.open(\"ratings.txt\", encoding='utf-8') as f:\n",
    "    # id/document/label 구분\n",
    "    data = [line.split('\\t') for line in f.read().splitlines()]\n",
    "    \n",
    "    # 헤더 삭제\n",
    "    data = data[1:]   \n",
    "\n",
    "# document만 추출\n",
    "docs = [row[1] for row in data]\n",
    "len(docs)\n"
   ]
  },
  {
   "cell_type": "code",
   "execution_count": 7,
   "metadata": {},
   "outputs": [
    {
     "data": {
      "text/plain": [
       "['어릴때보고 지금다시봐도 재밌어요ㅋㅋ',\n",
       " '디자인을 배우는 학생으로, 외국디자이너와 그들이 일군 전통을 통해 발전해가는 문화산업이 부러웠는데. 사실 우리나라에서도 그 어려운시절에 끝까지 열정을 지킨 노라노 같은 전통이있어 저와 같은 사람들이 꿈을 꾸고 이뤄나갈 수 있다는 것에 감사합니다.',\n",
       " '폴리스스토리 시리즈는 1부터 뉴까지 버릴께 하나도 없음.. 최고.',\n",
       " '와.. 연기가 진짜 개쩔구나.. 지루할거라고 생각했는데 몰입해서 봤다.. 그래 이런게 진짜 영화지',\n",
       " '안개 자욱한 밤하늘에 떠 있는 초승달 같은 영화.',\n",
       " '사랑을 해본사람이라면 처음부터 끝까지 웃을수 있는영화',\n",
       " '완전 감동입니다 다시봐도 감동',\n",
       " '개들의 전쟁2 나오나요? 나오면 1빠로 보고 싶음',\n",
       " '굿',\n",
       " '바보가 아니라 병 쉰 인듯']"
      ]
     },
     "execution_count": 7,
     "metadata": {},
     "output_type": "execute_result"
    }
   ],
   "source": [
    "# 리뷰문장 출력\n",
    "docs[:10]\n"
   ]
  },
  {
   "cell_type": "code",
   "execution_count": 8,
   "metadata": {},
   "outputs": [
    {
     "name": "stderr",
     "output_type": "stream",
     "text": [
      "C:\\ProgramData\\Anaconda3\\lib\\site-packages\\jpype\\_core.py:210: UserWarning: \n",
      "-------------------------------------------------------------------------------\n",
      "Deprecated: convertStrings was not specified when starting the JVM. The default\n",
      "behavior in JPype will be False starting in JPype 0.8. The recommended setting\n",
      "for new code is convertStrings=False.  The legacy value of True was assumed for\n",
      "this session. If you are a user of an application that reported this warning,\n",
      "please file a ticket with the developer.\n",
      "-------------------------------------------------------------------------------\n",
      "\n",
      "  \"\"\")\n",
      "100%|███████████████████████████████████| 10000/10000 [00:48<00:00, 206.48it/s]\n"
     ]
    }
   ],
   "source": [
    "from konlpy.tag import Okt\n",
    "from tqdm import tqdm\n",
    "\n",
    "tagger = Okt()\n",
    "sentences = []\n",
    "\n",
    "# 데이터의 일부분만 사용\n",
    "docs = docs[:10000]\n",
    "\n",
    "# 형태소분석 수행\n",
    "# tqdm() : 진행상황 표시\n",
    "for doc in tqdm(docs):\n",
    "    tokens = tagger.morphs(doc)\n",
    "    bigram = ngrams(tokens, 2, pad_left=True, pad_right=True,\n",
    "                    left_pad_symbol=\"SS\", right_pad_symbol=\"SE\")\n",
    "    sentences += [t for t in bigram]"
   ]
  },
  {
   "cell_type": "code",
   "execution_count": 9,
   "metadata": {},
   "outputs": [
    {
     "data": {
      "text/plain": [
       "[('SS', '어릴'),\n",
       " ('어릴', '때'),\n",
       " ('때', '보고'),\n",
       " ('보고', '지금'),\n",
       " ('지금', '다시'),\n",
       " ('다시', '봐도'),\n",
       " ('봐도', '재밌어요'),\n",
       " ('재밌어요', 'ㅋㅋ'),\n",
       " ('ㅋㅋ', 'SE'),\n",
       " ('SS', '디자인'),\n",
       " ('디자인', '을'),\n",
       " ('을', '배우는'),\n",
       " ('배우는', '학생'),\n",
       " ('학생', '으로'),\n",
       " ('으로', ','),\n",
       " (',', '외국'),\n",
       " ('외국', '디자이너'),\n",
       " ('디자이너', '와'),\n",
       " ('와', '그'),\n",
       " ('그', '들'),\n",
       " ('들', '이'),\n",
       " ('이', '일군'),\n",
       " ('일군', '전통'),\n",
       " ('전통', '을'),\n",
       " ('을', '통해'),\n",
       " ('통해', '발전'),\n",
       " ('발전', '해가는'),\n",
       " ('해가는', '문화'),\n",
       " ('문화', '산업'),\n",
       " ('산업', '이'),\n",
       " ('이', '부러웠는데'),\n",
       " ('부러웠는데', '.'),\n",
       " ('.', '사실'),\n",
       " ('사실', '우리나라'),\n",
       " ('우리나라', '에서도'),\n",
       " ('에서도', '그'),\n",
       " ('그', '어려운'),\n",
       " ('어려운', '시절'),\n",
       " ('시절', '에'),\n",
       " ('에', '끝'),\n",
       " ('끝', '까지'),\n",
       " ('까지', '열정'),\n",
       " ('열정', '을'),\n",
       " ('을', '지킨'),\n",
       " ('지킨', '노라노'),\n",
       " ('노라노', '같은'),\n",
       " ('같은', '전통'),\n",
       " ('전통', '이'),\n",
       " ('이', '있어'),\n",
       " ('있어', '저')]"
      ]
     },
     "execution_count": 9,
     "metadata": {},
     "output_type": "execute_result"
    }
   ],
   "source": [
    "# 바이그램 출력\n",
    "sentences[:50]\n"
   ]
  },
  {
   "cell_type": "code",
   "execution_count": 10,
   "metadata": {},
   "outputs": [
    {
     "name": "stdout",
     "output_type": "stream",
     "text": [
      "SS -> [('이', 266), ('정말', 261), ('진짜', 174), ('너무', 143), ('최고', 138)]\n",
      "나 -> [('는', 57), ('의', 32), ('만', 18), ('에게', 13), ('SE', 9)]\n",
      "의 -> [('영화', 197), ('연기', 98), ('명작', 34), ('드라마', 34), ('매력', 28)]\n"
     ]
    }
   ],
   "source": [
    "from nltk import ConditionalFreqDist\n",
    "\n",
    "# 조건 빈도수 구함\n",
    "cfd = ConditionalFreqDist(sentences)\n",
    "\n",
    "# 특정 단어 다음에 가장 자주 나오는 단어\n",
    "print('SS ->', cfd[\"SS\"].most_common(5))\n",
    "print('나 ->', cfd[\"나\"].most_common(5))\n",
    "print('의 ->', cfd[\"의\"].most_common(5))\n"
   ]
  },
  {
   "cell_type": "code",
   "execution_count": 11,
   "metadata": {},
   "outputs": [
    {
     "name": "stdout",
     "output_type": "stream",
     "text": [
      "0.06507478352138546\n",
      "0.0023276112889147513\n"
     ]
    }
   ],
   "source": [
    "from nltk.probability import ConditionalProbDist, MLEProbDist\n",
    "\n",
    "# 조건 확률 구함\n",
    "cpd = ConditionalProbDist(cfd, MLEProbDist)\n",
    "\n",
    "# '이->영화'가 '영화->이'보다 확률이 높음\n",
    "print(cpd[\"이\"].prob(\"영화\"))\n",
    "print(cpd[\"영화\"].prob(\"이\"))\n"
   ]
  },
  {
   "cell_type": "code",
   "execution_count": 12,
   "metadata": {},
   "outputs": [],
   "source": [
    "import random\n",
    "\n",
    "# 문장 생성\n",
    "def generate_sentence(cpd, seed=None):\n",
    "    \n",
    "    # 랜덤시드로 초기화\n",
    "    if seed is not None:\n",
    "        random.seed(seed)\n",
    "    \n",
    "    # 문장 초기화\n",
    "    sentence = []\n",
    "\n",
    "    # 초기 단어 설정\n",
    "    word = \"SS\"\n",
    "    \n",
    "    while True:\n",
    "        # 바이그램에 없다면 종료\n",
    "        if word not in cpd:\n",
    "            break\n",
    "        \n",
    "        # 확률분포에 따라 다음 단어 선택\n",
    "        word_next = cpd[word].generate()\n",
    "\n",
    "        # 문장의 끝 토큰이면 종료\n",
    "        if word_next == \"SE\":\n",
    "            break\n",
    "        \n",
    "        # 단어 추가\n",
    "        sentence.append(\" \" + word_next)\n",
    "        \n",
    "        # 다음 단어 설정\n",
    "        word = word_next\n",
    "\n",
    "    return \"\".join(sentence)"
   ]
  },
  {
   "cell_type": "code",
   "execution_count": 13,
   "metadata": {},
   "outputs": [
    {
     "data": {
      "text/plain": [
       "' 진짜 멋있다 . 연 기 대 마지막 에 악순환 의 코미디 도 탄탄하고 결말 알 게 된 감정 . Ebs 명화 를 바탕 을 줘도 부족한 그런 작품'"
      ]
     },
     "execution_count": 13,
     "metadata": {},
     "output_type": "execute_result"
    }
   ],
   "source": [
    "generate_sentence(cpd, 8)\n"
   ]
  },
  {
   "cell_type": "code",
   "execution_count": 14,
   "metadata": {},
   "outputs": [
    {
     "data": {
      "text/plain": [
       "' 천재 여배우 문 이 갈수록 흥미진진 긴장감 도 탄탄하고 완전 매력 이 존재 감 쵝오 ^^^~!!!!! 무조건 봐라 두 번 \" 완전 좋아요 ~~ 대박 터짐 ㅋㅋ'"
      ]
     },
     "execution_count": 14,
     "metadata": {},
     "output_type": "execute_result"
    }
   ],
   "source": [
    "generate_sentence(cpd, 23)\n"
   ]
  },
  {
   "cell_type": "code",
   "execution_count": 15,
   "metadata": {},
   "outputs": [
    {
     "data": {
      "text/plain": [
       "' 열린 마음 따듯 해지 는 싫다니 원 작 게임 환상 을 가지고있어야하고 1회 부터 계속 나왔으면 좋겠네요 무조건 봤다 . 쌍 제이 폭스 는 너무 잘 하고 생각 하면 애니 인 줄 알았네'"
      ]
     },
     "execution_count": 15,
     "metadata": {},
     "output_type": "execute_result"
    }
   ],
   "source": [
    "generate_sentence(cpd, 15)\n"
   ]
  },
  {
   "cell_type": "code",
   "execution_count": null,
   "metadata": {},
   "outputs": [],
   "source": []
  }
 ],
 "metadata": {
  "kernelspec": {
   "display_name": "Python 3",
   "language": "python",
   "name": "python3"
  },
  "language_info": {
   "codemirror_mode": {
    "name": "ipython",
    "version": 3
   },
   "file_extension": ".py",
   "mimetype": "text/x-python",
   "name": "python",
   "nbconvert_exporter": "python",
   "pygments_lexer": "ipython3",
   "version": "3.7.3"
  }
 },
 "nbformat": 4,
 "nbformat_minor": 2
}
