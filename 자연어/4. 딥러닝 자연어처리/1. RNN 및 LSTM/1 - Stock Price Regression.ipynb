{
 "cells": [
  {
   "cell_type": "code",
   "execution_count": 1,
   "metadata": {},
   "outputs": [
    {
     "name": "stderr",
     "output_type": "stream",
     "text": [
      "Using TensorFlow backend.\n"
     ]
    }
   ],
   "source": [
    "from keras import models\n",
    "from keras import layers\n",
    "from keras import optimizers, losses, metrics\n",
    "from sklearn.preprocessing import MinMaxScaler\n",
    "\n",
    "import numpy as np\n",
    "import pandas as pd\n",
    "import matplotlib.pyplot as plt"
   ]
  },
  {
   "cell_type": "markdown",
   "metadata": {},
   "source": [
    "<br>\n",
    "<br>\n",
    "\n",
    "# 데이터 로드"
   ]
  },
  {
   "cell_type": "code",
   "execution_count": 2,
   "metadata": {},
   "outputs": [],
   "source": [
    "# 데이터셋 로드\n",
    "train_data = pd.read_csv('./dataset/tata_stock/train.csv')\n",
    "test_data = pd.read_csv('./dataset/tata_stock/test.csv')"
   ]
  },
  {
   "cell_type": "code",
   "execution_count": 3,
   "metadata": {},
   "outputs": [
    {
     "data": {
      "text/html": [
       "<div>\n",
       "<style scoped>\n",
       "    .dataframe tbody tr th:only-of-type {\n",
       "        vertical-align: middle;\n",
       "    }\n",
       "\n",
       "    .dataframe tbody tr th {\n",
       "        vertical-align: top;\n",
       "    }\n",
       "\n",
       "    .dataframe thead th {\n",
       "        text-align: right;\n",
       "    }\n",
       "</style>\n",
       "<table border=\"1\" class=\"dataframe\">\n",
       "  <thead>\n",
       "    <tr style=\"text-align: right;\">\n",
       "      <th></th>\n",
       "      <th>Date</th>\n",
       "      <th>Open</th>\n",
       "      <th>High</th>\n",
       "      <th>Low</th>\n",
       "      <th>Last</th>\n",
       "      <th>Close</th>\n",
       "      <th>Total Trade Quantity</th>\n",
       "      <th>Turnover (Lacs)</th>\n",
       "    </tr>\n",
       "  </thead>\n",
       "  <tbody>\n",
       "    <tr>\n",
       "      <th>0</th>\n",
       "      <td>2018-09-28</td>\n",
       "      <td>234.05</td>\n",
       "      <td>235.95</td>\n",
       "      <td>230.20</td>\n",
       "      <td>233.50</td>\n",
       "      <td>233.75</td>\n",
       "      <td>3069914</td>\n",
       "      <td>7162.35</td>\n",
       "    </tr>\n",
       "    <tr>\n",
       "      <th>1</th>\n",
       "      <td>2018-09-27</td>\n",
       "      <td>234.55</td>\n",
       "      <td>236.80</td>\n",
       "      <td>231.10</td>\n",
       "      <td>233.80</td>\n",
       "      <td>233.25</td>\n",
       "      <td>5082859</td>\n",
       "      <td>11859.95</td>\n",
       "    </tr>\n",
       "    <tr>\n",
       "      <th>2</th>\n",
       "      <td>2018-09-26</td>\n",
       "      <td>240.00</td>\n",
       "      <td>240.00</td>\n",
       "      <td>232.50</td>\n",
       "      <td>235.00</td>\n",
       "      <td>234.25</td>\n",
       "      <td>2240909</td>\n",
       "      <td>5248.60</td>\n",
       "    </tr>\n",
       "    <tr>\n",
       "      <th>3</th>\n",
       "      <td>2018-09-25</td>\n",
       "      <td>233.30</td>\n",
       "      <td>236.75</td>\n",
       "      <td>232.00</td>\n",
       "      <td>236.25</td>\n",
       "      <td>236.10</td>\n",
       "      <td>2349368</td>\n",
       "      <td>5503.90</td>\n",
       "    </tr>\n",
       "    <tr>\n",
       "      <th>4</th>\n",
       "      <td>2018-09-24</td>\n",
       "      <td>233.55</td>\n",
       "      <td>239.20</td>\n",
       "      <td>230.75</td>\n",
       "      <td>234.00</td>\n",
       "      <td>233.30</td>\n",
       "      <td>3423509</td>\n",
       "      <td>7999.55</td>\n",
       "    </tr>\n",
       "  </tbody>\n",
       "</table>\n",
       "</div>"
      ],
      "text/plain": [
       "         Date    Open    High     Low    Last   Close  Total Trade Quantity  \\\n",
       "0  2018-09-28  234.05  235.95  230.20  233.50  233.75               3069914   \n",
       "1  2018-09-27  234.55  236.80  231.10  233.80  233.25               5082859   \n",
       "2  2018-09-26  240.00  240.00  232.50  235.00  234.25               2240909   \n",
       "3  2018-09-25  233.30  236.75  232.00  236.25  236.10               2349368   \n",
       "4  2018-09-24  233.55  239.20  230.75  234.00  233.30               3423509   \n",
       "\n",
       "   Turnover (Lacs)  \n",
       "0          7162.35  \n",
       "1         11859.95  \n",
       "2          5248.60  \n",
       "3          5503.90  \n",
       "4          7999.55  "
      ]
     },
     "execution_count": 3,
     "metadata": {},
     "output_type": "execute_result"
    }
   ],
   "source": [
    "# 훈련셋 헤드 출력\n",
    "train_data.head()\n"
   ]
  },
  {
   "cell_type": "code",
   "execution_count": 4,
   "metadata": {},
   "outputs": [
    {
     "data": {
      "text/html": [
       "<div>\n",
       "<style scoped>\n",
       "    .dataframe tbody tr th:only-of-type {\n",
       "        vertical-align: middle;\n",
       "    }\n",
       "\n",
       "    .dataframe tbody tr th {\n",
       "        vertical-align: top;\n",
       "    }\n",
       "\n",
       "    .dataframe thead th {\n",
       "        text-align: right;\n",
       "    }\n",
       "</style>\n",
       "<table border=\"1\" class=\"dataframe\">\n",
       "  <thead>\n",
       "    <tr style=\"text-align: right;\">\n",
       "      <th></th>\n",
       "      <th>Date</th>\n",
       "      <th>Open</th>\n",
       "      <th>High</th>\n",
       "      <th>Low</th>\n",
       "      <th>Last</th>\n",
       "      <th>Close</th>\n",
       "      <th>Total Trade Quantity</th>\n",
       "      <th>Turnover (Lacs)</th>\n",
       "    </tr>\n",
       "  </thead>\n",
       "  <tbody>\n",
       "    <tr>\n",
       "      <th>2030</th>\n",
       "      <td>2010-07-27</td>\n",
       "      <td>117.6</td>\n",
       "      <td>119.50</td>\n",
       "      <td>112.00</td>\n",
       "      <td>118.80</td>\n",
       "      <td>118.65</td>\n",
       "      <td>586100</td>\n",
       "      <td>694.98</td>\n",
       "    </tr>\n",
       "    <tr>\n",
       "      <th>2031</th>\n",
       "      <td>2010-07-26</td>\n",
       "      <td>120.1</td>\n",
       "      <td>121.00</td>\n",
       "      <td>117.10</td>\n",
       "      <td>117.10</td>\n",
       "      <td>117.60</td>\n",
       "      <td>658440</td>\n",
       "      <td>780.01</td>\n",
       "    </tr>\n",
       "    <tr>\n",
       "      <th>2032</th>\n",
       "      <td>2010-07-23</td>\n",
       "      <td>121.8</td>\n",
       "      <td>121.95</td>\n",
       "      <td>120.25</td>\n",
       "      <td>120.35</td>\n",
       "      <td>120.65</td>\n",
       "      <td>281312</td>\n",
       "      <td>340.31</td>\n",
       "    </tr>\n",
       "    <tr>\n",
       "      <th>2033</th>\n",
       "      <td>2010-07-22</td>\n",
       "      <td>120.3</td>\n",
       "      <td>122.00</td>\n",
       "      <td>120.25</td>\n",
       "      <td>120.75</td>\n",
       "      <td>120.90</td>\n",
       "      <td>293312</td>\n",
       "      <td>355.17</td>\n",
       "    </tr>\n",
       "    <tr>\n",
       "      <th>2034</th>\n",
       "      <td>2010-07-21</td>\n",
       "      <td>122.1</td>\n",
       "      <td>123.00</td>\n",
       "      <td>121.05</td>\n",
       "      <td>121.10</td>\n",
       "      <td>121.55</td>\n",
       "      <td>658666</td>\n",
       "      <td>803.56</td>\n",
       "    </tr>\n",
       "  </tbody>\n",
       "</table>\n",
       "</div>"
      ],
      "text/plain": [
       "            Date   Open    High     Low    Last   Close  Total Trade Quantity  \\\n",
       "2030  2010-07-27  117.6  119.50  112.00  118.80  118.65                586100   \n",
       "2031  2010-07-26  120.1  121.00  117.10  117.10  117.60                658440   \n",
       "2032  2010-07-23  121.8  121.95  120.25  120.35  120.65                281312   \n",
       "2033  2010-07-22  120.3  122.00  120.25  120.75  120.90                293312   \n",
       "2034  2010-07-21  122.1  123.00  121.05  121.10  121.55                658666   \n",
       "\n",
       "      Turnover (Lacs)  \n",
       "2030           694.98  \n",
       "2031           780.01  \n",
       "2032           340.31  \n",
       "2033           355.17  \n",
       "2034           803.56  "
      ]
     },
     "execution_count": 4,
     "metadata": {},
     "output_type": "execute_result"
    }
   ],
   "source": [
    "# 훈련셋 테일 출력\n",
    "train_data.tail()\n"
   ]
  },
  {
   "cell_type": "code",
   "execution_count": 5,
   "metadata": {},
   "outputs": [
    {
     "data": {
      "text/plain": [
       "(2035, 8)"
      ]
     },
     "execution_count": 5,
     "metadata": {},
     "output_type": "execute_result"
    }
   ],
   "source": [
    "# 훈련셋 크기\n",
    "train_data.shape\n"
   ]
  },
  {
   "cell_type": "code",
   "execution_count": 6,
   "metadata": {},
   "outputs": [
    {
     "data": {
      "text/plain": [
       "(16, 8)"
      ]
     },
     "execution_count": 6,
     "metadata": {},
     "output_type": "execute_result"
    }
   ],
   "source": [
    "# 테스트셋 크기\n",
    "test_data.shape\n"
   ]
  },
  {
   "cell_type": "markdown",
   "metadata": {},
   "source": [
    "<br>\n",
    "<br>\n",
    "\n",
    "# 전처리 - 훈련셋"
   ]
  },
  {
   "cell_type": "code",
   "execution_count": 7,
   "metadata": {},
   "outputs": [
    {
     "data": {
      "text/plain": [
       "array([[234.05],\n",
       "       [234.55],\n",
       "       [240.  ],\n",
       "       ...,\n",
       "       [121.8 ],\n",
       "       [120.3 ],\n",
       "       [122.1 ]])"
      ]
     },
     "execution_count": 7,
     "metadata": {},
     "output_type": "execute_result"
    }
   ],
   "source": [
    "# 시작가인 Open 항목만 추출\n",
    "train_data_new = train_data.iloc[:, 1:2].values\n",
    "train_data_new"
   ]
  },
  {
   "cell_type": "code",
   "execution_count": 8,
   "metadata": {},
   "outputs": [
    {
     "data": {
      "text/plain": [
       "array([[0.6202352 ],\n",
       "       [0.62226277],\n",
       "       [0.64436334],\n",
       "       ...,\n",
       "       [0.16504461],\n",
       "       [0.15896188],\n",
       "       [0.16626115]])"
      ]
     },
     "execution_count": 8,
     "metadata": {},
     "output_type": "execute_result"
    }
   ],
   "source": [
    "# 훈련셋을 0~1 사이로 정규화\n",
    "scaler = MinMaxScaler(feature_range = (0, 1))\n",
    "train_data_scaled = scaler.fit_transform(train_data_new)\n",
    "train_data_scaled"
   ]
  },
  {
   "cell_type": "code",
   "execution_count": 9,
   "metadata": {},
   "outputs": [],
   "source": [
    "# 입력의 날짜 시간 범위\n",
    "time_step = 60\n",
    "\n",
    "x_train = []\n",
    "y_train = []\n",
    "\n",
    "# 타임 스텝만큼 입력이 들어가고 그 다음 날의 값을 예측\n",
    "for i in range(time_step, len(train_data_scaled)):\n",
    "    x_train.append(train_data_scaled[i-60:i, 0])\n",
    "    y_train.append(train_data_scaled[i, 0])\n",
    "\n",
    "# 리스트를 배열로 변환\n",
    "x_train, y_train = np.array(x_train), np.array(y_train)"
   ]
  },
  {
   "cell_type": "markdown",
   "metadata": {},
   "source": [
    "주식은 대표적인 시계열 데이터입니다. 입력으로 60일의 연속적인 주가를 넣고 바로 다음 날의 주가를 예측합니다. 전체 데이터에서 처음 시작 60일 이후부터 for 구문을 돌면서 60일 단위로 훈련셋을 작성합니다.\n",
    "<br>\n",
    "<br>\n",
    "<br>"
   ]
  },
  {
   "cell_type": "code",
   "execution_count": 10,
   "metadata": {},
   "outputs": [
    {
     "data": {
      "text/plain": [
       "(1975, 60)"
      ]
     },
     "execution_count": 10,
     "metadata": {},
     "output_type": "execute_result"
    }
   ],
   "source": [
    "# 훈련셋 크기\n",
    "x_train.shape\n"
   ]
  },
  {
   "cell_type": "code",
   "execution_count": 11,
   "metadata": {},
   "outputs": [
    {
     "data": {
      "text/plain": [
       "array([[0.6202352 , 0.62226277, 0.64436334, ..., 0.79622871, 0.81062449,\n",
       "        0.74371452],\n",
       "       [0.62226277, 0.64436334, 0.61719384, ..., 0.81062449, 0.74371452,\n",
       "        0.77007299],\n",
       "       [0.64436334, 0.61719384, 0.61820762, ..., 0.74371452, 0.77007299,\n",
       "        0.73641525],\n",
       "       ...,\n",
       "       [0.19870235, 0.21796431, 0.21553122, ..., 0.14963504, 0.14801298,\n",
       "        0.15815085],\n",
       "       [0.21796431, 0.21553122, 0.20600162, ..., 0.14801298, 0.15815085,\n",
       "        0.16504461],\n",
       "       [0.21553122, 0.20600162, 0.21654501, ..., 0.15815085, 0.16504461,\n",
       "        0.15896188]])"
      ]
     },
     "execution_count": 11,
     "metadata": {},
     "output_type": "execute_result"
    }
   ],
   "source": [
    "# 훈련셋 출력\n",
    "x_train\n"
   ]
  },
  {
   "cell_type": "code",
   "execution_count": 12,
   "metadata": {},
   "outputs": [],
   "source": [
    "# LSTM의 입력 형식에 맞게 배열의 차원 변환\n",
    "# (샘플 수, 타임 스텝) -> (샘플 수, 타임 스텝, 특성 수)\n",
    "x_train = x_train.reshape(x_train.shape[0], x_train.shape[1], 1)"
   ]
  },
  {
   "cell_type": "code",
   "execution_count": 13,
   "metadata": {},
   "outputs": [
    {
     "data": {
      "text/plain": [
       "(1975, 60, 1)"
      ]
     },
     "execution_count": 13,
     "metadata": {},
     "output_type": "execute_result"
    }
   ],
   "source": [
    "# 훈련셋 크기\n",
    "x_train.shape\n"
   ]
  },
  {
   "cell_type": "code",
   "execution_count": 14,
   "metadata": {},
   "outputs": [
    {
     "data": {
      "text/plain": [
       "array([[[0.6202352 ],\n",
       "        [0.62226277],\n",
       "        [0.64436334],\n",
       "        ...,\n",
       "        [0.79622871],\n",
       "        [0.81062449],\n",
       "        [0.74371452]],\n",
       "\n",
       "       [[0.62226277],\n",
       "        [0.64436334],\n",
       "        [0.61719384],\n",
       "        ...,\n",
       "        [0.81062449],\n",
       "        [0.74371452],\n",
       "        [0.77007299]],\n",
       "\n",
       "       [[0.64436334],\n",
       "        [0.61719384],\n",
       "        [0.61820762],\n",
       "        ...,\n",
       "        [0.74371452],\n",
       "        [0.77007299],\n",
       "        [0.73641525]],\n",
       "\n",
       "       ...,\n",
       "\n",
       "       [[0.19870235],\n",
       "        [0.21796431],\n",
       "        [0.21553122],\n",
       "        ...,\n",
       "        [0.14963504],\n",
       "        [0.14801298],\n",
       "        [0.15815085]],\n",
       "\n",
       "       [[0.21796431],\n",
       "        [0.21553122],\n",
       "        [0.20600162],\n",
       "        ...,\n",
       "        [0.14801298],\n",
       "        [0.15815085],\n",
       "        [0.16504461]],\n",
       "\n",
       "       [[0.21553122],\n",
       "        [0.20600162],\n",
       "        [0.21654501],\n",
       "        ...,\n",
       "        [0.15815085],\n",
       "        [0.16504461],\n",
       "        [0.15896188]]])"
      ]
     },
     "execution_count": 14,
     "metadata": {},
     "output_type": "execute_result"
    }
   ],
   "source": [
    "# 훈련셋 출력\n",
    "x_train\n"
   ]
  },
  {
   "cell_type": "code",
   "execution_count": 15,
   "metadata": {},
   "outputs": [
    {
     "data": {
      "text/plain": [
       "(1975,)"
      ]
     },
     "execution_count": 15,
     "metadata": {},
     "output_type": "execute_result"
    }
   ],
   "source": [
    "# 훈련셋 라벨 크기\n",
    "y_train.shape\n"
   ]
  },
  {
   "cell_type": "code",
   "execution_count": 16,
   "metadata": {},
   "outputs": [
    {
     "data": {
      "text/plain": [
       "array([0.77007299, 0.73641525, 0.73763179, ..., 0.16504461, 0.15896188,\n",
       "       0.16626115])"
      ]
     },
     "execution_count": 16,
     "metadata": {},
     "output_type": "execute_result"
    }
   ],
   "source": [
    "# 훈련셋 라벨 출력\n",
    "y_train\n"
   ]
  },
  {
   "cell_type": "code",
   "execution_count": 17,
   "metadata": {},
   "outputs": [],
   "source": [
    "# 훈련셋에서 검증셋 분리\n",
    "x_val = x_train[:100]\n",
    "x_train_new = x_train[100:]\n",
    "\n",
    "y_val = y_train[:100]\n",
    "y_train_new = y_train[100:]"
   ]
  },
  {
   "cell_type": "markdown",
   "metadata": {},
   "source": [
    "<br>\n",
    "<br>\n",
    "\n",
    "# 전처리 - 테스트셋"
   ]
  },
  {
   "cell_type": "code",
   "execution_count": 18,
   "metadata": {},
   "outputs": [
    {
     "data": {
      "text/plain": [
       "array([[220.1 ],\n",
       "       [221.1 ],\n",
       "       [229.45],\n",
       "       [230.3 ],\n",
       "       [237.7 ],\n",
       "       [237.1 ],\n",
       "       [229.7 ],\n",
       "       [226.25],\n",
       "       [215.  ],\n",
       "       [215.  ],\n",
       "       [215.5 ],\n",
       "       [208.  ],\n",
       "       [217.  ],\n",
       "       [223.5 ],\n",
       "       [230.  ],\n",
       "       [234.55]])"
      ]
     },
     "execution_count": 18,
     "metadata": {},
     "output_type": "execute_result"
    }
   ],
   "source": [
    "# 시작가인 Open 항목만 추출\n",
    "test_data_new = test_data.iloc[:, 1:2].values\n",
    "test_data_new\n"
   ]
  },
  {
   "cell_type": "code",
   "execution_count": 19,
   "metadata": {},
   "outputs": [
    {
     "data": {
      "text/plain": [
       "array([[0.56366586],\n",
       "       [0.56772101],\n",
       "       [0.60158151],\n",
       "       [0.60502839],\n",
       "       [0.6350365 ],\n",
       "       [0.63260341],\n",
       "       [0.6025953 ],\n",
       "       [0.58860503],\n",
       "       [0.54298459],\n",
       "       [0.54298459],\n",
       "       [0.54501217],\n",
       "       [0.51459854],\n",
       "       [0.55109489],\n",
       "       [0.57745337],\n",
       "       [0.60381184],\n",
       "       [0.62226277]])"
      ]
     },
     "execution_count": 19,
     "metadata": {},
     "output_type": "execute_result"
    }
   ],
   "source": [
    "# 테스트셋을 0~1 사이로 정규화\n",
    "test_data_scaled = scaler.transform(test_data_new)\n",
    "test_data_scaled\n"
   ]
  },
  {
   "cell_type": "code",
   "execution_count": 20,
   "metadata": {},
   "outputs": [
    {
     "data": {
      "text/plain": [
       "(76, 1)"
      ]
     },
     "execution_count": 20,
     "metadata": {},
     "output_type": "execute_result"
    }
   ],
   "source": [
    "# 테스트셋에서 타임 스텝을 계산하기 위해 훈련셋과 테스트셋을 합침\n",
    "data_total = np.concatenate((train_data_scaled, test_data_scaled), axis=0)\n",
    "\n",
    "# 테스트셋을 위한 타임 스텝만큼만 데이터 분리\n",
    "data_total_new = data_total[len(data_total) - len(test_data) - time_step:]\n",
    "data_total_new.shape\n"
   ]
  },
  {
   "cell_type": "markdown",
   "metadata": {},
   "source": [
    "테스트셋은 모두 16일의 데이터로 구성되어 있습니다. 각 주가마다 그 이전의 60일의 데이터가 필요합니다. 그래서 우선 훈련셋과 테스트셋을 합칩니다. 그리고 테스트셋에서 60일 이전만큼만(16+60=76) 데이터를 분리합니다.\n",
    "<br>\n",
    "<br>\n",
    "<br>"
   ]
  },
  {
   "cell_type": "code",
   "execution_count": 21,
   "metadata": {},
   "outputs": [
    {
     "data": {
      "text/plain": [
       "(16, 60, 1)"
      ]
     },
     "execution_count": 21,
     "metadata": {},
     "output_type": "execute_result"
    }
   ],
   "source": [
    "x_test = []\n",
    "y_test = []\n",
    "\n",
    "# 타임 스텝만큼 입력이 들어가고 그 다음 날의 값을 예측\n",
    "for i in range(time_step, len(data_total_new)):\n",
    "    x_test.append(data_total_new[i-60:i, 0])\n",
    "    y_test.append(data_total_new[i, 0])\n",
    "\n",
    "# 리스트를 배열로 변환\n",
    "x_test, y_test = np.array(x_test), np.array(y_test)\n",
    "\n",
    "# LSTM의 입력 형식에 맞게 배열의 차원 변환\n",
    "# (샘플 수, 타임 스텝) -> (샘플 수, 타임 스텝, 특성 수)\n",
    "x_test = x_test.reshape(x_test.shape[0], x_test.shape[1], 1)\n",
    "x_test.shape\n"
   ]
  },
  {
   "cell_type": "markdown",
   "metadata": {},
   "source": [
    "이전에 만든 76개의 데이터를 사용하여 60 타임 스텝만큼 테스트셋 16개의 데이터를 새로 생성합니다."
   ]
  },
  {
   "cell_type": "markdown",
   "metadata": {},
   "source": [
    "<br>\n",
    "<br>\n",
    "\n",
    "# 모델 생성"
   ]
  },
  {
   "cell_type": "code",
   "execution_count": 22,
   "metadata": {},
   "outputs": [],
   "source": [
    "def build_model():\n",
    "    \n",
    "    model = models.Sequential()\n",
    "    \n",
    "    model.add(layers.LSTM(64,\n",
    "                          dropout=0.1,\n",
    "                          recurrent_dropout=0.5,\n",
    "                          return_sequences=True,\n",
    "                          input_shape = (time_step, 1)))\n",
    "\n",
    "    model.add(layers.LSTM(64, \n",
    "                          dropout=0.1,\n",
    "                          recurrent_dropout=0.5,\n",
    "                          return_sequences=True))\n",
    "\n",
    "    model.add(layers.LSTM(64, \n",
    "                          dropout=0.1,\n",
    "                          recurrent_dropout=0.5,\n",
    "                          return_sequences=True))\n",
    "    \n",
    "    model.add(layers.LSTM(64, \n",
    "                          dropout=0.1,\n",
    "                          recurrent_dropout=0.5))\n",
    "\n",
    "    model.add(layers.Dense(1))\n",
    "\n",
    "    model.compile(optimizer='rmsprop',\n",
    "                  loss='mse',\n",
    "                  metrics=['mae'])\n",
    "    \n",
    "    return model              "
   ]
  },
  {
   "cell_type": "markdown",
   "metadata": {},
   "source": [
    "여러 개의 LSTM 층을 중첩해서 모델을 만듭니다. 이전에는 layers.Dropout()으로 드롭아웃을 추가했지만, LSTM에서는 함수 파라미터로 바로 설정합니다. 출력층(dropout)과 순환층(recurrent_dropout) 2개의 드롭아웃이 존재합니다.\n",
    "\n",
    "중첩 LSTM의 경우 return_sequences를 True로 변경해야 합니다. 그래야지 각 타임 스텝의 출력이 모두 아래 층 LSTM으로 전달됩니다. 제일 끝의 LSTM은 return_sequences가 False(디폴트)이며, 마지막 타임 스텝의 출력만 다음 층에서 사용합니다.\n",
    "\n",
    "Dense()나 Conv2D()는 디폴트 활성화 함수가 None이기 때문에 sigmoid나 relu로 설정을 해주었습니다. LSTM은 디폴트가 tanh이며, 여기서는 별도의 수정없이 그대로 적용합니다.\n",
    "\n",
    "회귀 모델이기 때문에 활성화 함수가 없는 Dense() 함수로 최종 주가를 예측합니다."
   ]
  },
  {
   "cell_type": "markdown",
   "metadata": {},
   "source": [
    "<br>\n",
    "<br>\n",
    "\n",
    "# 훈련 및 평가"
   ]
  },
  {
   "cell_type": "code",
   "execution_count": 23,
   "metadata": {},
   "outputs": [
    {
     "name": "stdout",
     "output_type": "stream",
     "text": [
      "Train on 1875 samples, validate on 100 samples\n",
      "Epoch 1/200\n",
      "1875/1875 [==============================] - 19s 10ms/step - loss: 0.0130 - mean_absolute_error: 0.0795 - val_loss: 0.0218 - val_mean_absolute_error: 0.1360\n",
      "Epoch 2/200\n",
      "1875/1875 [==============================] - 17s 9ms/step - loss: 0.0094 - mean_absolute_error: 0.0623 - val_loss: 0.1007 - val_mean_absolute_error: 0.3129\n",
      "Epoch 3/200\n",
      "1875/1875 [==============================] - 17s 9ms/step - loss: 0.0082 - mean_absolute_error: 0.0604 - val_loss: 0.0344 - val_mean_absolute_error: 0.1766\n",
      "Epoch 4/200\n",
      "1875/1875 [==============================] - 17s 9ms/step - loss: 0.0072 - mean_absolute_error: 0.0585 - val_loss: 0.0392 - val_mean_absolute_error: 0.1906\n",
      "Epoch 5/200\n",
      "1875/1875 [==============================] - 17s 9ms/step - loss: 0.0063 - mean_absolute_error: 0.0533 - val_loss: 0.0638 - val_mean_absolute_error: 0.2468\n",
      "Epoch 6/200\n",
      "1875/1875 [==============================] - 17s 9ms/step - loss: 0.0082 - mean_absolute_error: 0.0549 - val_loss: 0.0151 - val_mean_absolute_error: 0.1084\n",
      "Epoch 7/200\n",
      "1875/1875 [==============================] - 17s 9ms/step - loss: 0.0081 - mean_absolute_error: 0.0587 - val_loss: 0.0186 - val_mean_absolute_error: 0.1241\n",
      "Epoch 8/200\n",
      "1875/1875 [==============================] - 17s 9ms/step - loss: 0.0076 - mean_absolute_error: 0.0562 - val_loss: 0.0146 - val_mean_absolute_error: 0.1053\n",
      "Epoch 9/200\n",
      "1875/1875 [==============================] - 17s 9ms/step - loss: 0.0065 - mean_absolute_error: 0.0533 - val_loss: 0.0141 - val_mean_absolute_error: 0.1086\n",
      "Epoch 10/200\n",
      "1875/1875 [==============================] - 17s 9ms/step - loss: 0.0066 - mean_absolute_error: 0.0531 - val_loss: 0.0087 - val_mean_absolute_error: 0.0756\n",
      "Epoch 11/200\n",
      "1875/1875 [==============================] - 17s 9ms/step - loss: 0.0058 - mean_absolute_error: 0.0514 - val_loss: 0.0678 - val_mean_absolute_error: 0.2552\n",
      "Epoch 12/200\n",
      "1875/1875 [==============================] - 17s 9ms/step - loss: 0.0069 - mean_absolute_error: 0.0520 - val_loss: 0.0103 - val_mean_absolute_error: 0.0870\n",
      "Epoch 13/200\n",
      "1875/1875 [==============================] - 17s 9ms/step - loss: 0.0057 - mean_absolute_error: 0.0487 - val_loss: 0.0060 - val_mean_absolute_error: 0.0609\n",
      "Epoch 14/200\n",
      "1875/1875 [==============================] - 17s 9ms/step - loss: 0.0058 - mean_absolute_error: 0.0480 - val_loss: 0.0110 - val_mean_absolute_error: 0.0917\n",
      "Epoch 15/200\n",
      "1875/1875 [==============================] - 17s 9ms/step - loss: 0.0054 - mean_absolute_error: 0.0474 - val_loss: 0.0036 - val_mean_absolute_error: 0.0430\n",
      "Epoch 16/200\n",
      "1875/1875 [==============================] - 17s 9ms/step - loss: 0.0056 - mean_absolute_error: 0.0455 - val_loss: 0.0049 - val_mean_absolute_error: 0.0531\n",
      "Epoch 17/200\n",
      "1875/1875 [==============================] - 17s 9ms/step - loss: 0.0061 - mean_absolute_error: 0.0466 - val_loss: 0.0169 - val_mean_absolute_error: 0.1205\n",
      "Epoch 18/200\n",
      "1875/1875 [==============================] - 17s 9ms/step - loss: 0.0071 - mean_absolute_error: 0.0483 - val_loss: 0.0111 - val_mean_absolute_error: 0.0929\n",
      "Epoch 19/200\n",
      "1875/1875 [==============================] - 17s 9ms/step - loss: 0.0054 - mean_absolute_error: 0.0447 - val_loss: 0.0119 - val_mean_absolute_error: 0.0980\n",
      "Epoch 20/200\n",
      "1875/1875 [==============================] - 17s 9ms/step - loss: 0.0047 - mean_absolute_error: 0.0436 - val_loss: 0.0108 - val_mean_absolute_error: 0.0963\n",
      "Epoch 21/200\n",
      "1875/1875 [==============================] - 17s 9ms/step - loss: 0.0056 - mean_absolute_error: 0.0438 - val_loss: 0.0035 - val_mean_absolute_error: 0.0426\n",
      "Epoch 22/200\n",
      "1875/1875 [==============================] - 17s 9ms/step - loss: 0.0055 - mean_absolute_error: 0.0440 - val_loss: 0.0026 - val_mean_absolute_error: 0.0412\n",
      "Epoch 23/200\n",
      "1875/1875 [==============================] - 17s 9ms/step - loss: 0.0053 - mean_absolute_error: 0.0437 - val_loss: 0.0313 - val_mean_absolute_error: 0.1707\n",
      "Epoch 24/200\n",
      "1875/1875 [==============================] - 17s 9ms/step - loss: 0.0046 - mean_absolute_error: 0.0421 - val_loss: 0.0167 - val_mean_absolute_error: 0.1206\n",
      "Epoch 25/200\n",
      "1875/1875 [==============================] - 17s 9ms/step - loss: 0.0040 - mean_absolute_error: 0.0395 - val_loss: 0.0144 - val_mean_absolute_error: 0.1107\n",
      "Epoch 26/200\n",
      "1875/1875 [==============================] - 17s 9ms/step - loss: 0.0044 - mean_absolute_error: 0.0418 - val_loss: 0.0027 - val_mean_absolute_error: 0.0359\n",
      "Epoch 27/200\n",
      "1875/1875 [==============================] - 17s 9ms/step - loss: 0.0044 - mean_absolute_error: 0.0398 - val_loss: 0.0026 - val_mean_absolute_error: 0.0358\n",
      "Epoch 28/200\n",
      "1875/1875 [==============================] - 17s 9ms/step - loss: 0.0037 - mean_absolute_error: 0.0387 - val_loss: 0.0049 - val_mean_absolute_error: 0.0543\n",
      "Epoch 29/200\n",
      "1875/1875 [==============================] - 17s 9ms/step - loss: 0.0039 - mean_absolute_error: 0.0389 - val_loss: 0.0106 - val_mean_absolute_error: 0.0921\n",
      "Epoch 30/200\n",
      "1875/1875 [==============================] - 17s 9ms/step - loss: 0.0038 - mean_absolute_error: 0.0369 - val_loss: 0.0127 - val_mean_absolute_error: 0.1029\n",
      "Epoch 31/200\n",
      "1875/1875 [==============================] - 17s 9ms/step - loss: 0.0034 - mean_absolute_error: 0.0370 - val_loss: 0.0187 - val_mean_absolute_error: 0.1289\n",
      "Epoch 32/200\n",
      "1875/1875 [==============================] - 17s 9ms/step - loss: 0.0035 - mean_absolute_error: 0.0373 - val_loss: 0.0179 - val_mean_absolute_error: 0.1261\n",
      "Epoch 33/200\n",
      "1875/1875 [==============================] - 17s 9ms/step - loss: 0.0032 - mean_absolute_error: 0.0370 - val_loss: 0.0061 - val_mean_absolute_error: 0.0644\n",
      "Epoch 34/200\n",
      "1875/1875 [==============================] - 17s 9ms/step - loss: 0.0030 - mean_absolute_error: 0.0357 - val_loss: 0.0031 - val_mean_absolute_error: 0.0380\n",
      "Epoch 35/200\n",
      "1875/1875 [==============================] - 17s 9ms/step - loss: 0.0041 - mean_absolute_error: 0.0368 - val_loss: 0.0035 - val_mean_absolute_error: 0.0418\n",
      "Epoch 36/200\n",
      "1875/1875 [==============================] - 17s 9ms/step - loss: 0.0029 - mean_absolute_error: 0.0348 - val_loss: 0.0082 - val_mean_absolute_error: 0.0777\n",
      "Epoch 37/200\n",
      "1875/1875 [==============================] - 17s 9ms/step - loss: 0.0033 - mean_absolute_error: 0.0356 - val_loss: 0.0022 - val_mean_absolute_error: 0.0363\n",
      "Epoch 38/200\n",
      "1875/1875 [==============================] - 17s 9ms/step - loss: 0.0027 - mean_absolute_error: 0.0337 - val_loss: 0.0140 - val_mean_absolute_error: 0.1097\n",
      "Epoch 39/200\n",
      "1875/1875 [==============================] - 17s 9ms/step - loss: 0.0026 - mean_absolute_error: 0.0325 - val_loss: 0.0135 - val_mean_absolute_error: 0.1075\n",
      "Epoch 40/200\n",
      "1875/1875 [==============================] - 17s 9ms/step - loss: 0.0028 - mean_absolute_error: 0.0332 - val_loss: 0.0103 - val_mean_absolute_error: 0.0909\n",
      "Epoch 41/200\n",
      "1875/1875 [==============================] - 17s 9ms/step - loss: 0.0024 - mean_absolute_error: 0.0336 - val_loss: 0.0094 - val_mean_absolute_error: 0.0861\n",
      "Epoch 42/200\n",
      "1875/1875 [==============================] - 17s 9ms/step - loss: 0.0023 - mean_absolute_error: 0.0316 - val_loss: 0.0153 - val_mean_absolute_error: 0.1157\n",
      "Epoch 43/200\n",
      "1875/1875 [==============================] - 17s 9ms/step - loss: 0.0027 - mean_absolute_error: 0.0327 - val_loss: 0.0022 - val_mean_absolute_error: 0.0372\n",
      "Epoch 44/200\n",
      "1875/1875 [==============================] - 17s 9ms/step - loss: 0.0021 - mean_absolute_error: 0.0309 - val_loss: 0.0025 - val_mean_absolute_error: 0.0341\n",
      "Epoch 45/200\n",
      "1875/1875 [==============================] - 17s 9ms/step - loss: 0.0022 - mean_absolute_error: 0.0318 - val_loss: 0.0089 - val_mean_absolute_error: 0.0841\n",
      "Epoch 46/200\n",
      "1875/1875 [==============================] - 18s 9ms/step - loss: 0.0023 - mean_absolute_error: 0.0311 - val_loss: 0.0093 - val_mean_absolute_error: 0.0861\n",
      "Epoch 47/200\n",
      "1875/1875 [==============================] - 17s 9ms/step - loss: 0.0032 - mean_absolute_error: 0.0322 - val_loss: 0.0132 - val_mean_absolute_error: 0.1068\n",
      "Epoch 48/200\n",
      "1875/1875 [==============================] - 17s 9ms/step - loss: 0.0022 - mean_absolute_error: 0.0309 - val_loss: 0.0126 - val_mean_absolute_error: 0.1039\n",
      "Epoch 49/200\n",
      "1875/1875 [==============================] - 17s 9ms/step - loss: 0.0020 - mean_absolute_error: 0.0306 - val_loss: 0.0156 - val_mean_absolute_error: 0.1180\n",
      "Epoch 50/200\n",
      "1875/1875 [==============================] - 17s 9ms/step - loss: 0.0021 - mean_absolute_error: 0.0308 - val_loss: 0.0182 - val_mean_absolute_error: 0.1283\n",
      "Epoch 51/200\n",
      "1875/1875 [==============================] - 17s 9ms/step - loss: 0.0025 - mean_absolute_error: 0.0311 - val_loss: 0.0064 - val_mean_absolute_error: 0.0678\n",
      "Epoch 52/200\n",
      "1875/1875 [==============================] - 17s 9ms/step - loss: 0.0023 - mean_absolute_error: 0.0305 - val_loss: 0.0065 - val_mean_absolute_error: 0.0686\n",
      "Epoch 53/200\n",
      "1875/1875 [==============================] - 17s 9ms/step - loss: 0.0021 - mean_absolute_error: 0.0306 - val_loss: 0.0125 - val_mean_absolute_error: 0.1036\n",
      "Epoch 54/200\n",
      "1875/1875 [==============================] - 17s 9ms/step - loss: 0.0024 - mean_absolute_error: 0.0311 - val_loss: 0.0078 - val_mean_absolute_error: 0.0782\n",
      "Epoch 55/200\n",
      "1875/1875 [==============================] - 17s 9ms/step - loss: 0.0018 - mean_absolute_error: 0.0292 - val_loss: 0.0031 - val_mean_absolute_error: 0.0409\n",
      "Epoch 56/200\n",
      "1875/1875 [==============================] - 17s 9ms/step - loss: 0.0019 - mean_absolute_error: 0.0284 - val_loss: 0.0057 - val_mean_absolute_error: 0.0634\n",
      "Epoch 57/200\n",
      "1875/1875 [==============================] - 17s 9ms/step - loss: 0.0018 - mean_absolute_error: 0.0279 - val_loss: 0.0316 - val_mean_absolute_error: 0.1737\n",
      "Epoch 58/200\n",
      "1875/1875 [==============================] - 17s 9ms/step - loss: 0.0018 - mean_absolute_error: 0.0284 - val_loss: 0.0273 - val_mean_absolute_error: 0.1608\n",
      "Epoch 59/200\n",
      "1875/1875 [==============================] - 17s 9ms/step - loss: 0.0022 - mean_absolute_error: 0.0297 - val_loss: 0.0112 - val_mean_absolute_error: 0.0980\n",
      "Epoch 60/200\n",
      "1875/1875 [==============================] - 17s 9ms/step - loss: 0.0019 - mean_absolute_error: 0.0285 - val_loss: 0.0035 - val_mean_absolute_error: 0.0452\n",
      "Epoch 61/200\n",
      "1875/1875 [==============================] - 17s 9ms/step - loss: 0.0017 - mean_absolute_error: 0.0283 - val_loss: 0.0066 - val_mean_absolute_error: 0.0709\n",
      "Epoch 62/200\n",
      "1875/1875 [==============================] - 17s 9ms/step - loss: 0.0015 - mean_absolute_error: 0.0262 - val_loss: 0.0030 - val_mean_absolute_error: 0.0405\n",
      "Epoch 63/200\n",
      "1875/1875 [==============================] - 17s 9ms/step - loss: 0.0015 - mean_absolute_error: 0.0271 - val_loss: 0.0017 - val_mean_absolute_error: 0.0280\n",
      "Epoch 64/200\n",
      "1875/1875 [==============================] - 17s 9ms/step - loss: 0.0017 - mean_absolute_error: 0.0277 - val_loss: 0.0074 - val_mean_absolute_error: 0.0775\n",
      "Epoch 65/200\n",
      "1875/1875 [==============================] - 17s 9ms/step - loss: 0.0016 - mean_absolute_error: 0.0268 - val_loss: 0.0114 - val_mean_absolute_error: 0.1000\n",
      "Epoch 66/200\n",
      "1875/1875 [==============================] - 17s 9ms/step - loss: 0.0020 - mean_absolute_error: 0.0278 - val_loss: 0.0120 - val_mean_absolute_error: 0.1030\n",
      "Epoch 67/200\n",
      "1875/1875 [==============================] - 17s 9ms/step - loss: 0.0018 - mean_absolute_error: 0.0275 - val_loss: 0.0026 - val_mean_absolute_error: 0.0384\n",
      "Epoch 68/200\n",
      "1875/1875 [==============================] - 17s 9ms/step - loss: 0.0019 - mean_absolute_error: 0.0278 - val_loss: 0.0115 - val_mean_absolute_error: 0.1010\n",
      "Epoch 69/200\n",
      "1875/1875 [==============================] - 17s 9ms/step - loss: 0.0016 - mean_absolute_error: 0.0268 - val_loss: 0.0040 - val_mean_absolute_error: 0.0523\n",
      "Epoch 70/200\n",
      "1875/1875 [==============================] - 17s 9ms/step - loss: 0.0016 - mean_absolute_error: 0.0271 - val_loss: 0.0071 - val_mean_absolute_error: 0.0757\n",
      "Epoch 71/200\n",
      "1875/1875 [==============================] - 17s 9ms/step - loss: 0.0016 - mean_absolute_error: 0.0267 - val_loss: 0.0086 - val_mean_absolute_error: 0.0856\n",
      "Epoch 72/200\n",
      "1875/1875 [==============================] - 17s 9ms/step - loss: 0.0015 - mean_absolute_error: 0.0260 - val_loss: 0.0067 - val_mean_absolute_error: 0.0737\n",
      "Epoch 73/200\n",
      "1875/1875 [==============================] - 17s 9ms/step - loss: 0.0017 - mean_absolute_error: 0.0255 - val_loss: 0.0036 - val_mean_absolute_error: 0.0482\n",
      "Epoch 74/200\n",
      "1875/1875 [==============================] - 17s 9ms/step - loss: 0.0016 - mean_absolute_error: 0.0267 - val_loss: 0.0200 - val_mean_absolute_error: 0.1367\n",
      "Epoch 75/200\n",
      "1875/1875 [==============================] - 17s 9ms/step - loss: 0.0016 - mean_absolute_error: 0.0266 - val_loss: 0.0083 - val_mean_absolute_error: 0.0836\n",
      "Epoch 76/200\n",
      "1875/1875 [==============================] - 17s 9ms/step - loss: 0.0015 - mean_absolute_error: 0.0261 - val_loss: 0.0023 - val_mean_absolute_error: 0.0416\n",
      "Epoch 77/200\n",
      "1875/1875 [==============================] - 17s 9ms/step - loss: 0.0014 - mean_absolute_error: 0.0253 - val_loss: 0.0037 - val_mean_absolute_error: 0.0499\n",
      "Epoch 78/200\n",
      "1875/1875 [==============================] - 17s 9ms/step - loss: 0.0013 - mean_absolute_error: 0.0255 - val_loss: 0.0129 - val_mean_absolute_error: 0.1080\n",
      "Epoch 79/200\n",
      "1875/1875 [==============================] - 17s 9ms/step - loss: 0.0014 - mean_absolute_error: 0.0254 - val_loss: 0.0024 - val_mean_absolute_error: 0.0366\n",
      "Epoch 80/200\n",
      "1875/1875 [==============================] - 17s 9ms/step - loss: 0.0014 - mean_absolute_error: 0.0243 - val_loss: 0.0133 - val_mean_absolute_error: 0.1096\n",
      "Epoch 81/200\n",
      "1875/1875 [==============================] - 17s 9ms/step - loss: 0.0016 - mean_absolute_error: 0.0254 - val_loss: 0.0123 - val_mean_absolute_error: 0.1055\n",
      "Epoch 82/200\n",
      "1875/1875 [==============================] - 17s 9ms/step - loss: 0.0013 - mean_absolute_error: 0.0245 - val_loss: 0.0111 - val_mean_absolute_error: 0.0999\n",
      "Epoch 83/200\n",
      "1875/1875 [==============================] - 17s 9ms/step - loss: 0.0013 - mean_absolute_error: 0.0241 - val_loss: 0.0011 - val_mean_absolute_error: 0.0246\n",
      "Epoch 84/200\n",
      "1875/1875 [==============================] - 17s 9ms/step - loss: 0.0014 - mean_absolute_error: 0.0246 - val_loss: 0.0216 - val_mean_absolute_error: 0.1437\n",
      "Epoch 85/200\n",
      "1875/1875 [==============================] - 17s 9ms/step - loss: 0.0014 - mean_absolute_error: 0.0251 - val_loss: 0.0012 - val_mean_absolute_error: 0.0258\n",
      "Epoch 86/200\n",
      "1875/1875 [==============================] - 17s 9ms/step - loss: 0.0019 - mean_absolute_error: 0.0262 - val_loss: 0.0061 - val_mean_absolute_error: 0.0700\n",
      "Epoch 87/200\n",
      "1875/1875 [==============================] - 17s 9ms/step - loss: 0.0014 - mean_absolute_error: 0.0247 - val_loss: 0.0093 - val_mean_absolute_error: 0.0907\n",
      "Epoch 88/200\n",
      "1875/1875 [==============================] - 17s 9ms/step - loss: 0.0014 - mean_absolute_error: 0.0241 - val_loss: 0.0014 - val_mean_absolute_error: 0.0289\n",
      "Epoch 89/200\n",
      "1875/1875 [==============================] - 17s 9ms/step - loss: 0.0015 - mean_absolute_error: 0.0247 - val_loss: 0.0089 - val_mean_absolute_error: 0.0882\n",
      "Epoch 90/200\n",
      "1875/1875 [==============================] - 17s 9ms/step - loss: 0.0014 - mean_absolute_error: 0.0243 - val_loss: 0.0078 - val_mean_absolute_error: 0.0825\n",
      "Epoch 91/200\n",
      "1875/1875 [==============================] - 18s 9ms/step - loss: 0.0013 - mean_absolute_error: 0.0240 - val_loss: 0.0040 - val_mean_absolute_error: 0.0551\n",
      "Epoch 92/200\n",
      "1875/1875 [==============================] - 22s 12ms/step - loss: 0.0018 - mean_absolute_error: 0.0249 - val_loss: 0.0049 - val_mean_absolute_error: 0.0623\n",
      "Epoch 93/200\n",
      "1875/1875 [==============================] - 30s 16ms/step - loss: 0.0013 - mean_absolute_error: 0.0244 - val_loss: 0.0045 - val_mean_absolute_error: 0.0597\n",
      "Epoch 94/200\n",
      "1875/1875 [==============================] - 23s 12ms/step - loss: 0.0014 - mean_absolute_error: 0.0237 - val_loss: 0.0012 - val_mean_absolute_error: 0.0234\n",
      "Epoch 95/200\n",
      "1875/1875 [==============================] - 21s 11ms/step - loss: 0.0013 - mean_absolute_error: 0.0234 - val_loss: 0.0018 - val_mean_absolute_error: 0.0359\n",
      "Epoch 96/200\n",
      "1875/1875 [==============================] - 21s 11ms/step - loss: 0.0015 - mean_absolute_error: 0.0246 - val_loss: 0.0015 - val_mean_absolute_error: 0.0285\n",
      "Epoch 97/200\n"
     ]
    },
    {
     "name": "stdout",
     "output_type": "stream",
     "text": [
      "1875/1875 [==============================] - 21s 11ms/step - loss: 0.0015 - mean_absolute_error: 0.0229 - val_loss: 0.0018 - val_mean_absolute_error: 0.0332\n",
      "Epoch 98/200\n",
      "1875/1875 [==============================] - 22s 12ms/step - loss: 0.0013 - mean_absolute_error: 0.0238 - val_loss: 0.0094 - val_mean_absolute_error: 0.0923\n",
      "Epoch 99/200\n",
      "1875/1875 [==============================] - 21s 11ms/step - loss: 0.0013 - mean_absolute_error: 0.0239 - val_loss: 0.0174 - val_mean_absolute_error: 0.1287\n",
      "Epoch 100/200\n",
      "1875/1875 [==============================] - 22s 12ms/step - loss: 0.0015 - mean_absolute_error: 0.0241 - val_loss: 0.0066 - val_mean_absolute_error: 0.0752\n",
      "Epoch 101/200\n",
      "1875/1875 [==============================] - 21s 11ms/step - loss: 0.0012 - mean_absolute_error: 0.0230 - val_loss: 0.0011 - val_mean_absolute_error: 0.0232\n",
      "Epoch 102/200\n",
      "1875/1875 [==============================] - 20s 11ms/step - loss: 0.0011 - mean_absolute_error: 0.0222 - val_loss: 9.2910e-04 - val_mean_absolute_error: 0.0221\n",
      "Epoch 103/200\n",
      "1875/1875 [==============================] - 21s 11ms/step - loss: 0.0013 - mean_absolute_error: 0.0233 - val_loss: 0.0045 - val_mean_absolute_error: 0.0592\n",
      "Epoch 104/200\n",
      "1875/1875 [==============================] - 21s 11ms/step - loss: 0.0014 - mean_absolute_error: 0.0240 - val_loss: 0.0049 - val_mean_absolute_error: 0.0636\n",
      "Epoch 105/200\n",
      "1875/1875 [==============================] - 20s 11ms/step - loss: 0.0013 - mean_absolute_error: 0.0228 - val_loss: 0.0136 - val_mean_absolute_error: 0.1135\n",
      "Epoch 106/200\n",
      "1875/1875 [==============================] - 21s 11ms/step - loss: 0.0010 - mean_absolute_error: 0.0217 - val_loss: 0.0052 - val_mean_absolute_error: 0.0669\n",
      "Epoch 107/200\n",
      "1875/1875 [==============================] - 20s 11ms/step - loss: 0.0011 - mean_absolute_error: 0.0230 - val_loss: 0.0043 - val_mean_absolute_error: 0.0591\n",
      "Epoch 108/200\n",
      "1875/1875 [==============================] - 21s 11ms/step - loss: 0.0013 - mean_absolute_error: 0.0230 - val_loss: 0.0027 - val_mean_absolute_error: 0.0468\n",
      "Epoch 109/200\n",
      "1875/1875 [==============================] - 21s 11ms/step - loss: 0.0011 - mean_absolute_error: 0.0222 - val_loss: 0.0036 - val_mean_absolute_error: 0.0533\n",
      "Epoch 110/200\n",
      "1875/1875 [==============================] - 22s 12ms/step - loss: 0.0012 - mean_absolute_error: 0.0227 - val_loss: 0.0017 - val_mean_absolute_error: 0.0328\n",
      "Epoch 111/200\n",
      "1875/1875 [==============================] - 21s 11ms/step - loss: 0.0012 - mean_absolute_error: 0.0229 - val_loss: 0.0061 - val_mean_absolute_error: 0.0736\n",
      "Epoch 112/200\n",
      "1875/1875 [==============================] - 21s 11ms/step - loss: 0.0011 - mean_absolute_error: 0.0220 - val_loss: 0.0010 - val_mean_absolute_error: 0.0227\n",
      "Epoch 113/200\n",
      "1875/1875 [==============================] - 20s 11ms/step - loss: 0.0011 - mean_absolute_error: 0.0225 - val_loss: 0.0073 - val_mean_absolute_error: 0.0801\n",
      "Epoch 114/200\n",
      "1875/1875 [==============================] - 20s 11ms/step - loss: 0.0013 - mean_absolute_error: 0.0227 - val_loss: 0.0036 - val_mean_absolute_error: 0.0530\n",
      "Epoch 115/200\n",
      "1875/1875 [==============================] - 20s 11ms/step - loss: 0.0012 - mean_absolute_error: 0.0224 - val_loss: 0.0085 - val_mean_absolute_error: 0.0882\n",
      "Epoch 116/200\n",
      "1875/1875 [==============================] - 22s 11ms/step - loss: 0.0010 - mean_absolute_error: 0.0217 - val_loss: 0.0024 - val_mean_absolute_error: 0.0418\n",
      "Epoch 117/200\n",
      "1875/1875 [==============================] - 21s 11ms/step - loss: 0.0011 - mean_absolute_error: 0.0226 - val_loss: 0.0122 - val_mean_absolute_error: 0.1071\n",
      "Epoch 118/200\n",
      "1875/1875 [==============================] - 22s 12ms/step - loss: 0.0012 - mean_absolute_error: 0.0226 - val_loss: 0.0024 - val_mean_absolute_error: 0.0410\n",
      "Epoch 119/200\n",
      "1875/1875 [==============================] - 21s 11ms/step - loss: 0.0012 - mean_absolute_error: 0.0215 - val_loss: 0.0034 - val_mean_absolute_error: 0.0512\n",
      "Epoch 120/200\n",
      "1875/1875 [==============================] - 23s 12ms/step - loss: 0.0013 - mean_absolute_error: 0.0221 - val_loss: 0.0027 - val_mean_absolute_error: 0.0444\n",
      "Epoch 121/200\n",
      "1875/1875 [==============================] - 20s 11ms/step - loss: 0.0011 - mean_absolute_error: 0.0217 - val_loss: 0.0065 - val_mean_absolute_error: 0.0757\n",
      "Epoch 122/200\n",
      "1875/1875 [==============================] - 21s 11ms/step - loss: 0.0012 - mean_absolute_error: 0.0230 - val_loss: 0.0020 - val_mean_absolute_error: 0.0365\n",
      "Epoch 123/200\n",
      "1875/1875 [==============================] - 21s 11ms/step - loss: 0.0011 - mean_absolute_error: 0.0219 - val_loss: 0.0010 - val_mean_absolute_error: 0.0235\n",
      "Epoch 124/200\n",
      "1875/1875 [==============================] - 21s 11ms/step - loss: 0.0011 - mean_absolute_error: 0.0213 - val_loss: 0.0036 - val_mean_absolute_error: 0.0534\n",
      "Epoch 125/200\n",
      "1875/1875 [==============================] - 20s 11ms/step - loss: 0.0012 - mean_absolute_error: 0.0216 - val_loss: 0.0062 - val_mean_absolute_error: 0.0736\n",
      "Epoch 126/200\n",
      "1875/1875 [==============================] - 21s 11ms/step - loss: 0.0012 - mean_absolute_error: 0.0218 - val_loss: 0.0048 - val_mean_absolute_error: 0.0629\n",
      "Epoch 127/200\n",
      "1875/1875 [==============================] - 20s 11ms/step - loss: 0.0012 - mean_absolute_error: 0.0224 - val_loss: 0.0043 - val_mean_absolute_error: 0.0586\n",
      "Epoch 128/200\n",
      "1875/1875 [==============================] - 20s 11ms/step - loss: 0.0011 - mean_absolute_error: 0.0212 - val_loss: 0.0154 - val_mean_absolute_error: 0.1209\n",
      "Epoch 129/200\n",
      "1875/1875 [==============================] - 20s 10ms/step - loss: 0.0013 - mean_absolute_error: 0.0222 - val_loss: 0.0187 - val_mean_absolute_error: 0.1341\n",
      "Epoch 130/200\n",
      "1875/1875 [==============================] - 19s 10ms/step - loss: 0.0012 - mean_absolute_error: 0.0215 - val_loss: 0.0058 - val_mean_absolute_error: 0.0708\n",
      "Epoch 131/200\n",
      "1875/1875 [==============================] - 20s 11ms/step - loss: 9.3811e-04 - mean_absolute_error: 0.0209 - val_loss: 0.0100 - val_mean_absolute_error: 0.0966\n",
      "Epoch 132/200\n",
      "1875/1875 [==============================] - 20s 11ms/step - loss: 0.0010 - mean_absolute_error: 0.0212 - val_loss: 0.0048 - val_mean_absolute_error: 0.0633\n",
      "Epoch 133/200\n",
      "1875/1875 [==============================] - 20s 11ms/step - loss: 0.0012 - mean_absolute_error: 0.0219 - val_loss: 0.0035 - val_mean_absolute_error: 0.0523\n",
      "Epoch 134/200\n",
      "1875/1875 [==============================] - 20s 11ms/step - loss: 9.6291e-04 - mean_absolute_error: 0.0212 - val_loss: 0.0011 - val_mean_absolute_error: 0.0246\n",
      "Epoch 135/200\n",
      "1875/1875 [==============================] - 21s 11ms/step - loss: 0.0013 - mean_absolute_error: 0.0215 - val_loss: 0.0013 - val_mean_absolute_error: 0.0282\n",
      "Epoch 136/200\n",
      "1875/1875 [==============================] - 21s 11ms/step - loss: 0.0011 - mean_absolute_error: 0.0218 - val_loss: 0.0077 - val_mean_absolute_error: 0.0827\n",
      "Epoch 137/200\n",
      "1875/1875 [==============================] - 20s 11ms/step - loss: 0.0010 - mean_absolute_error: 0.0208 - val_loss: 0.0158 - val_mean_absolute_error: 0.1225\n",
      "Epoch 138/200\n",
      "1875/1875 [==============================] - 21s 11ms/step - loss: 0.0011 - mean_absolute_error: 0.0215 - val_loss: 0.0035 - val_mean_absolute_error: 0.0511\n",
      "Epoch 139/200\n",
      "1875/1875 [==============================] - 21s 11ms/step - loss: 9.3973e-04 - mean_absolute_error: 0.0210 - val_loss: 0.0033 - val_mean_absolute_error: 0.0510\n",
      "Epoch 140/200\n",
      "1875/1875 [==============================] - 21s 11ms/step - loss: 9.2778e-04 - mean_absolute_error: 0.0206 - val_loss: 9.2803e-04 - val_mean_absolute_error: 0.0225\n",
      "Epoch 141/200\n",
      "1875/1875 [==============================] - 21s 11ms/step - loss: 0.0013 - mean_absolute_error: 0.0215 - val_loss: 0.0046 - val_mean_absolute_error: 0.0614\n",
      "Epoch 142/200\n",
      "1875/1875 [==============================] - 21s 11ms/step - loss: 0.0011 - mean_absolute_error: 0.0208 - val_loss: 0.0095 - val_mean_absolute_error: 0.0936\n",
      "Epoch 143/200\n",
      "1875/1875 [==============================] - 20s 11ms/step - loss: 0.0010 - mean_absolute_error: 0.0211 - val_loss: 0.0086 - val_mean_absolute_error: 0.0882\n",
      "Epoch 144/200\n",
      "1875/1875 [==============================] - 21s 11ms/step - loss: 9.8005e-04 - mean_absolute_error: 0.0206 - val_loss: 0.0037 - val_mean_absolute_error: 0.0546\n"
     ]
    },
    {
     "name": "stdout",
     "output_type": "stream",
     "text": [
      "Epoch 145/200\n",
      "1875/1875 [==============================] - 20s 11ms/step - loss: 0.0010 - mean_absolute_error: 0.0204 - val_loss: 0.0083 - val_mean_absolute_error: 0.0871\n",
      "Epoch 146/200\n",
      "1875/1875 [==============================] - 21s 11ms/step - loss: 9.3543e-04 - mean_absolute_error: 0.0205 - val_loss: 0.0034 - val_mean_absolute_error: 0.0523\n",
      "Epoch 147/200\n",
      "1875/1875 [==============================] - 21s 11ms/step - loss: 0.0012 - mean_absolute_error: 0.0210 - val_loss: 0.0058 - val_mean_absolute_error: 0.0709\n",
      "Epoch 148/200\n",
      "1875/1875 [==============================] - 21s 11ms/step - loss: 9.3492e-04 - mean_absolute_error: 0.0204 - val_loss: 0.0069 - val_mean_absolute_error: 0.0778\n",
      "Epoch 149/200\n",
      "1875/1875 [==============================] - 22s 11ms/step - loss: 0.0011 - mean_absolute_error: 0.0211 - val_loss: 0.0012 - val_mean_absolute_error: 0.0262\n",
      "Epoch 150/200\n",
      "1875/1875 [==============================] - 21s 11ms/step - loss: 8.5468e-04 - mean_absolute_error: 0.0198 - val_loss: 0.0098 - val_mean_absolute_error: 0.0951\n",
      "Epoch 151/200\n",
      "1875/1875 [==============================] - 21s 11ms/step - loss: 8.7676e-04 - mean_absolute_error: 0.0198 - val_loss: 0.0043 - val_mean_absolute_error: 0.0595\n",
      "Epoch 152/200\n",
      "1875/1875 [==============================] - 21s 11ms/step - loss: 8.3224e-04 - mean_absolute_error: 0.0196 - val_loss: 0.0081 - val_mean_absolute_error: 0.0855\n",
      "Epoch 153/200\n",
      "1875/1875 [==============================] - 21s 11ms/step - loss: 9.4347e-04 - mean_absolute_error: 0.0202 - val_loss: 0.0133 - val_mean_absolute_error: 0.1120\n",
      "Epoch 154/200\n",
      "1875/1875 [==============================] - 21s 11ms/step - loss: 9.4698e-04 - mean_absolute_error: 0.0201 - val_loss: 8.3806e-04 - val_mean_absolute_error: 0.0209\n",
      "Epoch 155/200\n",
      "1875/1875 [==============================] - 21s 11ms/step - loss: 0.0011 - mean_absolute_error: 0.0207 - val_loss: 0.0037 - val_mean_absolute_error: 0.0541\n",
      "Epoch 156/200\n",
      "1875/1875 [==============================] - 20s 11ms/step - loss: 0.0010 - mean_absolute_error: 0.0208 - val_loss: 0.0067 - val_mean_absolute_error: 0.0767\n",
      "Epoch 157/200\n",
      "1875/1875 [==============================] - 22s 11ms/step - loss: 8.2471e-04 - mean_absolute_error: 0.0192 - val_loss: 0.0059 - val_mean_absolute_error: 0.0713\n",
      "Epoch 158/200\n",
      "1875/1875 [==============================] - 21s 11ms/step - loss: 0.0010 - mean_absolute_error: 0.0199 - val_loss: 0.0169 - val_mean_absolute_error: 0.1272\n",
      "Epoch 159/200\n",
      "1875/1875 [==============================] - 21s 11ms/step - loss: 8.6518e-04 - mean_absolute_error: 0.0197 - val_loss: 0.0022 - val_mean_absolute_error: 0.0398\n",
      "Epoch 160/200\n",
      "1875/1875 [==============================] - 20s 11ms/step - loss: 0.0012 - mean_absolute_error: 0.0208 - val_loss: 0.0098 - val_mean_absolute_error: 0.0946\n",
      "Epoch 161/200\n",
      "1875/1875 [==============================] - 20s 10ms/step - loss: 8.8418e-04 - mean_absolute_error: 0.0197 - val_loss: 0.0014 - val_mean_absolute_error: 0.0287\n",
      "Epoch 162/200\n",
      "1875/1875 [==============================] - 17s 9ms/step - loss: 7.7538e-04 - mean_absolute_error: 0.0195 - val_loss: 9.3149e-04 - val_mean_absolute_error: 0.0229\n",
      "Epoch 163/200\n",
      "1875/1875 [==============================] - 17s 9ms/step - loss: 8.9057e-04 - mean_absolute_error: 0.0198 - val_loss: 0.0011 - val_mean_absolute_error: 0.0250\n",
      "Epoch 164/200\n",
      "1875/1875 [==============================] - 18s 9ms/step - loss: 8.4372e-04 - mean_absolute_error: 0.0197 - val_loss: 0.0020 - val_mean_absolute_error: 0.0363\n",
      "Epoch 165/200\n",
      "1875/1875 [==============================] - 17s 9ms/step - loss: 7.8512e-04 - mean_absolute_error: 0.0192 - val_loss: 0.0022 - val_mean_absolute_error: 0.0394\n",
      "Epoch 166/200\n",
      "1875/1875 [==============================] - 17s 9ms/step - loss: 9.7096e-04 - mean_absolute_error: 0.0202 - val_loss: 0.0064 - val_mean_absolute_error: 0.0754\n",
      "Epoch 167/200\n",
      "1875/1875 [==============================] - 22s 12ms/step - loss: 8.3349e-04 - mean_absolute_error: 0.0195 - val_loss: 0.0051 - val_mean_absolute_error: 0.0665\n",
      "Epoch 168/200\n",
      "1875/1875 [==============================] - 23s 12ms/step - loss: 9.0706e-04 - mean_absolute_error: 0.0198 - val_loss: 0.0022 - val_mean_absolute_error: 0.0382\n",
      "Epoch 169/200\n",
      "1875/1875 [==============================] - 22s 12ms/step - loss: 8.7340e-04 - mean_absolute_error: 0.0193 - val_loss: 0.0059 - val_mean_absolute_error: 0.0712\n",
      "Epoch 170/200\n",
      "1875/1875 [==============================] - 22s 11ms/step - loss: 7.9544e-04 - mean_absolute_error: 0.0189 - val_loss: 0.0018 - val_mean_absolute_error: 0.0341\n",
      "Epoch 171/200\n",
      "1875/1875 [==============================] - 22s 12ms/step - loss: 8.7239e-04 - mean_absolute_error: 0.0194 - val_loss: 0.0064 - val_mean_absolute_error: 0.0746\n",
      "Epoch 172/200\n",
      "1875/1875 [==============================] - 21s 11ms/step - loss: 8.3863e-04 - mean_absolute_error: 0.0195 - val_loss: 0.0063 - val_mean_absolute_error: 0.0741\n",
      "Epoch 173/200\n",
      "1875/1875 [==============================] - 21s 11ms/step - loss: 9.0424e-04 - mean_absolute_error: 0.0188 - val_loss: 0.0038 - val_mean_absolute_error: 0.0544\n",
      "Epoch 174/200\n",
      "1875/1875 [==============================] - 21s 11ms/step - loss: 9.1601e-04 - mean_absolute_error: 0.0198 - val_loss: 0.0049 - val_mean_absolute_error: 0.0634\n",
      "Epoch 175/200\n",
      "1875/1875 [==============================] - 23s 12ms/step - loss: 7.8715e-04 - mean_absolute_error: 0.0186 - val_loss: 9.3660e-04 - val_mean_absolute_error: 0.0233\n",
      "Epoch 176/200\n",
      "1875/1875 [==============================] - 17s 9ms/step - loss: 9.3815e-04 - mean_absolute_error: 0.0196 - val_loss: 9.3696e-04 - val_mean_absolute_error: 0.0222\n",
      "Epoch 177/200\n",
      "1875/1875 [==============================] - 19s 10ms/step - loss: 8.9915e-04 - mean_absolute_error: 0.0198 - val_loss: 0.0026 - val_mean_absolute_error: 0.0417\n",
      "Epoch 178/200\n",
      "1875/1875 [==============================] - 21s 11ms/step - loss: 8.4321e-04 - mean_absolute_error: 0.0195 - val_loss: 0.0017 - val_mean_absolute_error: 0.0332\n",
      "Epoch 179/200\n",
      "1875/1875 [==============================] - 20s 11ms/step - loss: 9.5207e-04 - mean_absolute_error: 0.0195 - val_loss: 0.0012 - val_mean_absolute_error: 0.0253\n",
      "Epoch 180/200\n",
      "1875/1875 [==============================] - 18s 10ms/step - loss: 8.9905e-04 - mean_absolute_error: 0.0192 - val_loss: 0.0011 - val_mean_absolute_error: 0.0245\n",
      "Epoch 181/200\n",
      "1875/1875 [==============================] - 22s 12ms/step - loss: 7.9162e-04 - mean_absolute_error: 0.0193 - val_loss: 0.0108 - val_mean_absolute_error: 0.1003\n",
      "Epoch 182/200\n",
      "1875/1875 [==============================] - 21s 11ms/step - loss: 8.7030e-04 - mean_absolute_error: 0.0193 - val_loss: 0.0011 - val_mean_absolute_error: 0.0251\n",
      "Epoch 183/200\n",
      "1875/1875 [==============================] - 26s 14ms/step - loss: 7.3094e-04 - mean_absolute_error: 0.0180 - val_loss: 0.0041 - val_mean_absolute_error: 0.0572\n",
      "Epoch 184/200\n",
      "1875/1875 [==============================] - 26s 14ms/step - loss: 0.0010 - mean_absolute_error: 0.0199 - val_loss: 0.0017 - val_mean_absolute_error: 0.0320\n",
      "Epoch 185/200\n",
      "1875/1875 [==============================] - 22s 12ms/step - loss: 8.4421e-04 - mean_absolute_error: 0.0188 - val_loss: 0.0027 - val_mean_absolute_error: 0.0451\n",
      "Epoch 186/200\n",
      "1875/1875 [==============================] - 20s 11ms/step - loss: 8.1629e-04 - mean_absolute_error: 0.0187 - val_loss: 0.0032 - val_mean_absolute_error: 0.0486\n",
      "Epoch 187/200\n",
      "1875/1875 [==============================] - 21s 11ms/step - loss: 9.5735e-04 - mean_absolute_error: 0.0198 - val_loss: 0.0015 - val_mean_absolute_error: 0.0288\n",
      "Epoch 188/200\n",
      "1875/1875 [==============================] - 17s 9ms/step - loss: 8.7466e-04 - mean_absolute_error: 0.0187 - val_loss: 0.0051 - val_mean_absolute_error: 0.0636\n",
      "Epoch 189/200\n",
      "1875/1875 [==============================] - 20s 11ms/step - loss: 8.3372e-04 - mean_absolute_error: 0.0184 - val_loss: 0.0079 - val_mean_absolute_error: 0.0837\n",
      "Epoch 190/200\n",
      "1875/1875 [==============================] - 23s 12ms/step - loss: 7.6323e-04 - mean_absolute_error: 0.0188 - val_loss: 0.0015 - val_mean_absolute_error: 0.0298\n",
      "Epoch 191/200\n",
      "1875/1875 [==============================] - 20s 11ms/step - loss: 7.1148e-04 - mean_absolute_error: 0.0179 - val_loss: 0.0029 - val_mean_absolute_error: 0.0448\n"
     ]
    },
    {
     "name": "stdout",
     "output_type": "stream",
     "text": [
      "Epoch 192/200\n",
      "1875/1875 [==============================] - 20s 11ms/step - loss: 7.9116e-04 - mean_absolute_error: 0.0188 - val_loss: 0.0015 - val_mean_absolute_error: 0.0301\n",
      "Epoch 193/200\n",
      "1875/1875 [==============================] - 23s 12ms/step - loss: 7.7502e-04 - mean_absolute_error: 0.0183 - val_loss: 0.0011 - val_mean_absolute_error: 0.0251\n",
      "Epoch 194/200\n",
      "1875/1875 [==============================] - 22s 12ms/step - loss: 8.2755e-04 - mean_absolute_error: 0.0190 - val_loss: 0.0014 - val_mean_absolute_error: 0.0286\n",
      "Epoch 195/200\n",
      "1875/1875 [==============================] - 22s 12ms/step - loss: 8.1784e-04 - mean_absolute_error: 0.0188 - val_loss: 0.0016 - val_mean_absolute_error: 0.0307\n",
      "Epoch 196/200\n",
      "1875/1875 [==============================] - 28s 15ms/step - loss: 7.3167e-04 - mean_absolute_error: 0.0182 - val_loss: 0.0014 - val_mean_absolute_error: 0.0293\n",
      "Epoch 197/200\n",
      "1875/1875 [==============================] - 27s 14ms/step - loss: 8.7643e-04 - mean_absolute_error: 0.0193 - val_loss: 0.0050 - val_mean_absolute_error: 0.0630\n",
      "Epoch 198/200\n",
      "1875/1875 [==============================] - 21s 11ms/step - loss: 8.2232e-04 - mean_absolute_error: 0.0189 - val_loss: 0.0092 - val_mean_absolute_error: 0.0909\n",
      "Epoch 199/200\n",
      "1875/1875 [==============================] - 22s 12ms/step - loss: 6.8048e-04 - mean_absolute_error: 0.0184 - val_loss: 0.0023 - val_mean_absolute_error: 0.0400\n",
      "Epoch 200/200\n",
      "1875/1875 [==============================] - 22s 12ms/step - loss: 9.5197e-04 - mean_absolute_error: 0.0189 - val_loss: 0.0015 - val_mean_absolute_error: 0.0305\n"
     ]
    }
   ],
   "source": [
    "# 모델 생성\n",
    "model = build_model()\n",
    "\n",
    "# 훈련 시작\n",
    "history = model.fit(x_train_new,\n",
    "                    y_train_new,\n",
    "                    epochs=200,\n",
    "                    batch_size=32,\n",
    "                    validation_data=(x_val, y_val))\n"
   ]
  },
  {
   "cell_type": "code",
   "execution_count": 24,
   "metadata": {},
   "outputs": [
    {
     "data": {
      "image/png": "[encoded data removed]",
      "text/plain": [
       "<Figure size 432x288 with 1 Axes>"
      ]
     },
     "metadata": {},
     "output_type": "display_data"
    }
   ],
   "source": [
    "mae = history.history['mean_absolute_error']\n",
    "val_mae = history.history['val_mean_absolute_error']\n",
    "\n",
    "epochs = range(1, len(mae) + 1)\n",
    "\n",
    "plt.plot(epochs, mae, 'bo', label='Training MAE')      # bo -> 파란색 점\n",
    "plt.plot(epochs, val_mae, 'b', label='Validation MAE') # b -> 파란색 실선\n",
    "plt.title('Training and validation MAE')\n",
    "plt.xlabel('Epochs')\n",
    "plt.ylabel('MAE')\n",
    "plt.legend()\n",
    "\n",
    "plt.show()\n"
   ]
  },
  {
   "cell_type": "code",
   "execution_count": 25,
   "metadata": {},
   "outputs": [],
   "source": [
    "# 모델 저장\n",
    "model.save('./model/stock_price_model.h5')"
   ]
  },
  {
   "cell_type": "markdown",
   "metadata": {},
   "source": [
    "<br>\n",
    "<br>\n",
    "\n",
    "# 테스트셋 확인"
   ]
  },
  {
   "cell_type": "code",
   "execution_count": 26,
   "metadata": {},
   "outputs": [],
   "source": [
    "# 저장된 모델 파일 로드\n",
    "model = models.load_model('./model/stock_price_model.h5')"
   ]
  },
  {
   "cell_type": "code",
   "execution_count": 27,
   "metadata": {},
   "outputs": [
    {
     "name": "stdout",
     "output_type": "stream",
     "text": [
      "\r",
      "16/16 [==============================] - 1s 51ms/step\n"
     ]
    },
    {
     "data": {
      "text/plain": [
       "[0.020717263221740723, 0.11425551027059555]"
      ]
     },
     "execution_count": 27,
     "metadata": {},
     "output_type": "execute_result"
    }
   ],
   "source": [
    "# 테스트셋 평가\n",
    "results = model.evaluate(x_test, y_test)\n",
    "results\n"
   ]
  },
  {
   "cell_type": "code",
   "execution_count": 28,
   "metadata": {},
   "outputs": [],
   "source": [
    "# 테스트셋 예측\n",
    "results = model.predict(x_test)\n",
    "\n",
    "# 스케일된 예측값을 실제값으로 변경\n",
    "results = scaler.inverse_transform(results)\n",
    "\n",
    "# 스케일러 변환 형식에 맞게 차원 변경\n",
    "y_test = y_test.reshape(-1, 1)\n",
    "\n",
    "# 스케일된 테스트셋값을 실제값으로 변경\n",
    "y_test_real = scaler.inverse_transform(y_test)"
   ]
  },
  {
   "cell_type": "code",
   "execution_count": 30,
   "metadata": {},
   "outputs": [
    {
     "data": {
      "image/png": "[encoded data removed]",
      "text/plain": [
       "<Figure size 432x288 with 1 Axes>"
      ]
     },
     "metadata": {},
     "output_type": "display_data"
    }
   ],
   "source": [
    "plt.plot(y_test_real, color = 'red', label = 'Real TATA Stock Price')\n",
    "plt.plot(results, color = 'blue', label = 'Predicted TATA Stock Price')\n",
    "plt.title('TATA Stock Price Prediction')\n",
    "plt.xlabel('Days')\n",
    "plt.ylabel('TATA Stock Price')\n",
    "plt.legend()\n",
    "\n",
    "plt.show()\n"
   ]
  },
  {
   "cell_type": "markdown",
   "metadata": {},
   "source": [
    "테스트셋의 예측 주가와 실제 주가의 그래프입니다. 첫 날은 차이가 많이 나지만, 그 이후로는 상당히 비슷한 형태를 보이고 있습니다. \n",
    "\n",
    "이번 예제에서는 단순히 시작가만 특성으로 사용했습니다. 하지만 실제 모델에서는 시가, 종가, 평균이동선 등 다양한 수치들을 피처 엔지니어링을 하여 사용합니다."
   ]
  },
  {
   "cell_type": "code",
   "execution_count": null,
   "metadata": {},
   "outputs": [],
   "source": []
  }
 ],
 "metadata": {
  "kernelspec": {
   "display_name": "Python 3",
   "language": "python",
   "name": "python3"
  },
  "language_info": {
   "codemirror_mode": {
    "name": "ipython",
    "version": 3
   },
   "file_extension": ".py",
   "mimetype": "text/x-python",
   "name": "python",
   "nbconvert_exporter": "python",
   "pygments_lexer": "ipython3",
   "version": "3.6.5"
  }
 },
 "nbformat": 4,
 "nbformat_minor": 2
}
